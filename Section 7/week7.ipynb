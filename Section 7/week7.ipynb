{
  "nbformat": 4,
  "nbformat_minor": 0,
  "metadata": {
    "colab": {
      "name": "week7.ipynb",
      "provenance": [],
      "collapsed_sections": [],
      "toc_visible": true
    },
    "kernelspec": {
      "name": "python3",
      "display_name": "Python 3"
    }
  },
  "cells": [
    {
      "cell_type": "markdown",
      "metadata": {
        "id": "AtB_ydNzPe7J"
      },
      "source": [
        "[![Open In Colab](https://colab.research.google.com/assets/colab-badge.svg)](https://colab.research.google.com/github/jiswoo/CS112.L12.KHCL/blob/master/Section%207/week7.ipynb)\n",
        "## <strong>Bắt đầu</strong>\n",
        "\n",
        "Nhóm 15 - SE112.L12.KHCL [Chi tiết nhóm 15](https://github.com/jiswoo/CS112.L12.KHCL/blob/master/README.md)\n",
        "- Phan Khắc Cường - 18520548\n",
        "- Nguyễn Anh Khoa - 18520922\n",
        "\n",
        "  ![](https://i.postimg.cc/k445hYdx/logo-uit.png)"
      ]
    },
    {
      "cell_type": "markdown",
      "metadata": {
        "id": "1Md3uzbARqBP"
      },
      "source": [
        "# Bài toán 1: Phân Số\n",
        "## 1. Cho 2 phân số đúng và tối giản $\\frac{a}{b} $,$\\frac{c}{d}$   . Mỗi phép biến đổi là tăng a và b lên 1, sau đó giản ước phân số nhận được.\n",
        "\n",
        "Hãy xác định sau bao nhiêu bước biến đổi từ phân số thứ nhất ban đầu nhận được phân số thứ 2 đã cho.\n",
        "\n",
        "Dữ liệu: Vào từ thiết bị nhập chuẩn gồm 4 dòng, mỗi dòng chứa 1 số nguyên $$ a, b, c, d, 0 < a < b \\le 10^5, 0 < c < d \\le 10^5,$$ a và b nguyên tố cùng nhau, c và d nguyên tố cùng nhau $ \\frac{a}{b} \\ne \\frac{c}{d}$\n",
        "\n",
        "Kết quả: Đưa ra thiết bị xuất chuẩn số 0 nếu không có cách biến đổi hoặc một số nguyên – số lượng phép biến đổi.\n",
        "\n",
        "\n",
        "**Ví dụ:**\n",
        "\n",
        "    \n",
        "    INPUT\t    |    OUTPUT\n",
        "    1 6 2 3      |     5 \t\n",
        "\n",
        "\n",
        "\n"
      ]
    },
    {
      "cell_type": "markdown",
      "metadata": {
        "id": "hIcuGLWqqqNG"
      },
      "source": [
        "# Bài toán 2: **XÂU CON TƯƠNG ĐƯƠNG (1S,50M)**\r\n",
        "\r\n",
        "\r\n",
        "Cho xâu s chỉ chứa các ký tự la-tin thường độ dài n không quá 105. Ký hiệu s[i..j] là xâu con các ký tự liên tiếp nhau của s từ vị trí i đến vị trí j. Hai xâu con x = s[a..b] và y = s[c..d] được gọi là cùng một lớp tương đương nếu có cách đổi chỗ các ký tự trong một xâu để nhận được xâu kia. Các vị trí được đánh số từ 1 trở đi.\r\n",
        "\r\n",
        "- Ví dụ: s = “abcbacaac”, s[1..3] tương đương với s[4..6], còn s[1..3] không tương đương với s[5..7].\r\n",
        "\r\n",
        "Cho q truy vấn, mỗi truy vấn là 4 số nguyên a, b, c, d xác định các xâu con x và y. Với mỗi truy vấn hãy xác định hai xâu con này có cùng một lớp tương đương hay không và đưa ra câu trả lời tương ứng “YES” hoặc “NO”.\r\n",
        "\r\n",
        "Dữ liệu:  \r\n",
        "\r\n",
        "- Dòng đầu tiên chứa xâu s,\r\n",
        "\r\n",
        "- Dòng thứ 2 chứa số nguyên q (1 ≤  q  ≤ 105),\r\n",
        "\r\n",
        "Mỗi dòng trong q dòng tiếp theo chứa 4 số nguyên a, b, c, d (1 ≤ a ≤ b ≤ n, 1 ≤ c ≤ d ≤ n).\r\n",
        "\r\n",
        "**Kết quả:** Đưa ra thiết bị xuất chuẩn các câu trả lời xác định được cho mỗi truy vấn, mỗi câu trả lời trên một dòng.\r\n",
        "\r\n",
        "**Dữ liệu mẫu:**  \r\n",
        "\r\n",
        "**Input** | **Output**  \r\n",
        "--- | ---  \r\n",
        "abcbacaac | **YES**  \r\n",
        "2  |  **NO**\r\n",
        "1 3 4 6  |\r\n",
        "1 3 5 7 |  \r\n",
        "\r\n",
        "\r\n",
        "\r\n"
      ]
    },
    {
      "cell_type": "markdown",
      "metadata": {
        "id": "eKCuAjR9rKp2"
      },
      "source": [
        "###**BÀI TOÁN 2 :  Xâu con tương đương**\r\n",
        "\r\n",
        "##**1. Abstraction:** \r\n",
        "- Từ 4 số nguyên xác định các xâu con x và y của xâu S, xác định x và y có tương đương với nhau hay không\r\n",
        "\r\n",
        "##**2-3. Decomposition & Pattern Recognition:**  \r\n",
        "- So sánh 2 chuỗi con  \r\n",
        "Ý tưởng: \r\n",
        "- Lấy ra từng chuỗi con sau đó sắp xếp lại và so sánh 2 chuỗi\r\n",
        "```python\r\n",
        "s = str(input())  \r\n",
        "q = int (input())  \r\n",
        "flag = [\"NO\"]*q  \r\n",
        "def check (s, a,b,c,d):\r\n",
        "    s1 = sorted( s[a-1:b])\r\n",
        "    s2 = sorted( s[c-1:d])\r\n",
        "    return s1==s2\r\n",
        "for i in range (q):\r\n",
        "    a,b,c,d = map (int, input().split())\r\n",
        "    if check(s,a,b,c,d) ==True:\r\n",
        "        flag[i] = \"YES\"\r\n",
        "for i in flag:\r\n",
        "    print (i)\r\n",
        "```\r\n",
        "> Vấn đề: Hoạt động tốt với xâu có kích thước nhỏ. Xâu có kích thước lớn không đáp ứng được yêu cầu đề bài (1s)  \r\n",
        "<!-- ![alt text](https://i.imgur.com/P3s1fwC.png \"Logo Title Text 1\")   -->\r\n",
        "\r\n",
        "#### **Giải pháp:**\r\n",
        "- Biểu diễn chuỗi dưới dạng số, thay vì so sánh chuỗi ta so sánh các số. \r\n",
        "- Kĩ thuật sử dụng: String hashing  \r\n",
        "=> Pattern Recognition: string hashing\r\n",
        "## **4. Algorithm designed:**\r\n"
      ]
    },
    {
      "cell_type": "markdown",
      "metadata": {
        "id": "u2rioZYRd1yG"
      },
      "source": [
        "#Abstraction 1\n",
        "- Xác định số phép biến đổi tăng lên 1 của tử và mẫu số của phân số thứ nhất để nhận được phân số thứ 2.\n",
        "\n"
      ]
    },
    {
      "cell_type": "markdown",
      "metadata": {
        "id": "VCw5vneceLL-"
      },
      "source": [
        "#Algorithm Design: Pseudocode 1\n",
        "Xử lý bài toán tìm ước chung lớn nhất của a và b\n",
        " ```python\n",
        "a, b, c, d = map(int, input().split())\n",
        "def rutgon(a, b):\n",
        "  n = gcd(a, b)\n",
        "  return (a//n), (b//n)\n",
        "def BienDoi(a, b, c, d):\n",
        "  temp = 0\n",
        "  while not (a == c and b == d) or (a/b > c/d):\n",
        "    a, b = rutgon(a+1, b+1)\n",
        "    temp += 1\n",
        "    if a/b > c/d:\n",
        "      return 0\n",
        "  return temp\n",
        "print(Biendoi(a, b, c, d))\n",
        " ```\n",
        "\n"
      ]
    },
    {
      "cell_type": "markdown",
      "metadata": {
        "id": "nqGiP2v5gS74"
      },
      "source": [
        "#Result 1&2\n",
        "\n",
        "![1.PNG](data:image/png;base64,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)\n"
      ]
    },
    {
      "cell_type": "markdown",
      "metadata": {
        "id": "iX5ylF_7rv_E"
      },
      "source": [
        "#CODE 1"
      ]
    },
    {
      "cell_type": "code",
      "metadata": {
        "id": "qKR3OhGcg_FS",
        "colab": {
          "base_uri": "https://localhost:8080/"
        },
        "outputId": "8bd79a19-6342-45fb-b2ff-2437d2875166"
      },
      "source": [
        "import math\n",
        "\n",
        "a = int(input())\n",
        "b = int(input())\n",
        "c = int(input())\n",
        "d = int(input())\n",
        "\n",
        "i = 0\n",
        "while True:\n",
        "  if (a/b == c/d):\n",
        "    print(i)\n",
        "    break\n",
        "  elif (a/b > c/d):\n",
        "    print(0)\n",
        "    break\n",
        "  else:\n",
        "    a += 1\n",
        "    b += 1\n",
        "    tmp = math.gcd(a, b)\n",
        "    a = a // tmp\n",
        "    b = b // tmp\n",
        "    i += 1"
      ],
      "execution_count": 5,
      "outputs": [
        {
          "output_type": "stream",
          "text": [
            "1\n",
            "6\n",
            "2\n",
            "3\n",
            "5\n"
          ],
          "name": "stdout"
        }
      ]
    },
    {
      "cell_type": "markdown",
      "metadata": {
        "id": "DeU0JvPcr1vp"
      },
      "source": [
        "#CODE 2"
      ]
    },
    {
      "cell_type": "code",
      "metadata": {
        "colab": {
          "base_uri": "https://localhost:8080/"
        },
        "id": "vvIqIu2xsVvy",
        "outputId": "c9f788a4-9469-4930-a0ed-b9c7a8900e15"
      },
      "source": [
        "s =str(input())\r\n",
        "q = int (input())\r\n",
        "Hash = [0]\r\n",
        "\r\n",
        "\r\n",
        "for char in s:\r\n",
        "    Hash.append(Hash[len(Hash) -1] + 31 ** (ord(char) - ord('a')))\r\n",
        "\r\n",
        "ans = []\r\n",
        "for i in range (q):\r\n",
        "    a,b,c,d = map (int,input().split())\r\n",
        "    if  Hash[b] - Hash[a-1] == Hash[d] -Hash[c-1]:\r\n",
        "        ans.append(\"YES\")\r\n",
        "    else:\r\n",
        "        ans.append(\"NO\")\r\n",
        "\r\n",
        "print (\"\\n\".join(ans))"
      ],
      "execution_count": 8,
      "outputs": [
        {
          "output_type": "stream",
          "text": [
            "abcbacaac\n",
            "2\n",
            "1 3 4 6\n",
            "1 3 5 7\n",
            "YES\n",
            "NO\n"
          ],
          "name": "stdout"
        }
      ]
    }
  ]
}