{
  "nbformat": 4,
  "nbformat_minor": 0,
  "metadata": {
    "colab": {
      "name": "week4.ipynb",
      "provenance": [],
      "collapsed_sections": [],
      "toc_visible": true
    },
    "kernelspec": {
      "name": "python3",
      "display_name": "Python 3"
    }
  },
  "cells": [
    {
      "cell_type": "markdown",
      "metadata": {
        "id": "AtB_ydNzPe7J"
      },
      "source": [
        "## <strong>Bắt đầu</strong>\n",
        "\n",
        "Nhóm 15 - SE112.L12.KHCL [Chi tiết nhóm 15](https://github.com/jiswoo/CS112.L12.KHCL/blob/master/README.md)\n",
        "- Phan Khắc Cường - 18520548\n",
        "- Nguyễn Anh Khoa - 18520922\n",
        "\n",
        "  ![](https://i.postimg.cc/k445hYdx/logo-uit.png)"
      ]
    },
    {
      "cell_type": "markdown",
      "metadata": {
        "id": "1Md3uzbARqBP"
      },
      "source": [
        "##**Đề bài: ĐỔI MỚI (1s, 100MB)**\n",
        "\n",
        "Thành phố quyết định chặt hạ hết $n$ cây xanh hiện có trong thành phố để trồng chỉ một loại cây mới. Nhiệm vụ được giao cho Công ty Cây xanh thành phố. Do hạn chế về thiết bị Công ty chỉ tổ chức được $2$ đội đốn hạ cây. Đội $I$ hạ được $a$ cây mỗi ngày, nhưng cứ mối ngày thứ $k$ thì phải nghỉ để bảo dưỡng kỹ thuật, tức là đội $I$ sẽ nghỉ vào các ngày $k, 2k, 3k, . . .$ Đội $II$ hạ được $b$ cây mỗi ngày, nhưng cứ mỗi ngày thứ $m$ thì phải nghỉ để bảo dưỡng kỹ thuật, tức là đội $II$ sẽ nghỉ vào các ngày $m, 2m, 3m, . . .$ Ở ngày nghỉ, số cây chặt hạ của đội sẽ là $0$. Cả hai đội bắt đầu công việc vào cùng một ngày và làm việc song song với nhau.\n",
        "\n",
        "Công việc trồng cây mới sẽ bắt đầu sau khi toàn bộ cây cũ đã bị đốn hạ.\n",
        "\n",
        "Hãy xác định sau bao nhiêu ngày thì có thể bắt đầu việc trồng mới cây.\n",
        "\n",
        "Dữ liệu:\n",
        "\n",
        "Vào từ thiết bị nhập chuẩn gồm một dòng chứa 5 số nguyên $a, k, b, m$ và $n$ $(1 \\le a, b \\le 10^9, 2 \\le k, m \\le 10^{18}, 1 \\le n \\le 10^{18})$.\n",
        "Kết quả:\n",
        "\n",
        "Đưa ra thiết bị xuất chuẩn một số nguyên – số ngày tính được.\n",
        "    \n",
        "    INPUT\t    |    OUTPUT\n",
        "    2 4 3 3 25   |     \t7\t\n",
        "\n",
        "\n"
      ]
    },
    {
      "cell_type": "markdown",
      "metadata": {
        "id": "jui8NoKwT9y9"
      },
      "source": [
        "#Analysis:\n",
        "\n"
      ]
    },
    {
      "cell_type": "markdown",
      "metadata": {
        "id": "u2rioZYRd1yG"
      },
      "source": [
        "#Abstraction\n",
        "Theo bài toán đã cho, gọi x là số ngày mà hai đội cần để hoàn thành việc trồng cây. Khi đó, số ngày nghỉ của đội I là x//k(ngày) và số ngày nghỉ của đội II là x//m(ngày)\n",
        "\n",
        "'//' là phép chia lấy phần nguyên\n",
        "Ta có :\n",
        "\n",
        "Đội I:\n",
        "\n",
        "Số ngày cần phải làm : $x-int(\\frac{x}{k})$\n",
        "Số cây đốn hạ được : $[x-int(\\frac{x}{k})]*a$\n",
        "Đội II:\n",
        "\n",
        "Số ngày cần phải làm : $x-int(\\frac{x}{m})$\n",
        "Số cây đốn hạ được : $[x-int(\\frac{x}{m})] *b$\n",
        "Tổng số cây phải hạ: $x[a*int(\\frac{x}{k}) + b*int(\\frac{x}{m})] \\geq n$\n",
        "\n",
        "Vậy Abstraction của bài toán là tìm giá trị của x nhỏ nhất thoả mãn: $ x \\geq \\frac{n}{a*int(\\frac{x}{k}) + b*int(\\frac{x}{m})}$"
      ]
    },
    {
      "cell_type": "markdown",
      "metadata": {
        "id": "HEu3uFbreB0a"
      },
      "source": [
        "#Pattern Recognition\n",
        "- Sử dụng binary search để tìm ra x thoả mãn."
      ]
    },
    {
      "cell_type": "markdown",
      "metadata": {
        "id": "VCw5vneceLL-"
      },
      "source": [
        "#Algorithm Design: Pseudocode\n",
        "\n",
        "high = $10^{18}$\n",
        "\n",
        "low = 0\n",
        "\n",
        "res = -1\n",
        "\n",
        "while high $\\geq$ low\n",
        "\n",
        "mid = int($\\frac{high+low}{2}$)\n",
        "\n",
        "if $a(mid-int(\\frac{mid}{k}))$ + $b(mid-int(\\frac{mid}{m}))$ res = mid high = mid - 1 else low = mid + 1\n",
        "\n",
        "print res\n",
        "\n",
        "**Đánh giá:**\n",
        "\n",
        "- Độ phức tạp thuật toán: $O(nlogn)$\n",
        "- Bộ nhớ: $O(n)$\n",
        "- Đảm bảo thời gian chạy cho đề bài $(1s, 100MB)$"
      ]
    },
    {
      "cell_type": "markdown",
      "metadata": {
        "id": "d4_Tu0dRft4E"
      },
      "source": [
        "#Analysis of the function\n"
      ]
    },
    {
      "cell_type": "markdown",
      "metadata": {
        "id": "nqGiP2v5gS74"
      },
      "source": [
        "#Result\n",
        "![Capture.PNG](data:image/png;base64,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)"
      ]
    },
    {
      "cell_type": "markdown",
      "metadata": {
        "id": "LTETrBvSguRn"
      },
      "source": [
        "#Code\n",
        "\n"
      ]
    },
    {
      "cell_type": "code",
      "metadata": {
        "id": "qKR3OhGcg_FS",
        "colab": {
          "base_uri": "https://localhost:8080/"
        },
        "outputId": "43742ee5-f4a2-4ff4-9421-ca488a13b7ef"
      },
      "source": [
        "a, k, b, m, n = list(map(int, input().split()))\n",
        "\n",
        "def f(x):\n",
        "    return a*(x-x//k) + b*(x-x//m) >= n\n",
        "\n",
        "high = int(1e18)\n",
        "low = 0\n",
        "res = -1\n",
        "\n",
        "while high >= low:\n",
        "    mid = (high+low)//2\n",
        "    if f(mid):\n",
        "        res = mid\n",
        "        high = mid -1\n",
        "    else:\n",
        "        low = mid + 1\n",
        "print(res)"
      ],
      "execution_count": 1,
      "outputs": [
        {
          "output_type": "stream",
          "text": [
            "2 4 3 3 25\n",
            "7\n"
          ],
          "name": "stdout"
        }
      ]
    }
  ]
}