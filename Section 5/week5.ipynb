{
  "nbformat": 4,
  "nbformat_minor": 0,
  "metadata": {
    "colab": {
      "name": "week5.ipynb",
      "provenance": [],
      "collapsed_sections": [],
      "toc_visible": true
    },
    "kernelspec": {
      "name": "python3",
      "display_name": "Python 3"
    }
  },
  "cells": [
    {
      "cell_type": "markdown",
      "metadata": {
        "id": "AtB_ydNzPe7J"
      },
      "source": [
        "[![Open In Colab](https://colab.research.google.com/assets/colab-badge.svg)](https://colab.research.google.com/github/jiswoo/CS112.L12.KHCL/blob/master/Section5/week5.ipynb)\n",
        "## <strong>Bắt đầu</strong>\n",
        "\n",
        "Nhóm 15 - SE112.L12.KHCL [Chi tiết nhóm 15](https://github.com/jiswoo/CS112.L12.KHCL/blob/master/README.md)\n",
        "- Phan Khắc Cường - 18520548\n",
        "- Nguyễn Anh Khoa - 18520922\n",
        "\n",
        "  ![](https://i.postimg.cc/k445hYdx/logo-uit.png)"
      ]
    },
    {
      "cell_type": "markdown",
      "metadata": {
        "id": "1Md3uzbARqBP"
      },
      "source": [
        "# Bài toán 1: KHÓA SỐ \n",
        "## 1. [Đề bài](https://github.com/jiswoo/CS112.L12.KHCL/blob/master/Section5/W5_Number_Padlock.pdf)\n",
        "Để tăng độ an toàn chống hiện tượng cướp ngân hàng ngày càng phổ biến người ta dùng khóa số với mã mở khóa đơn giản nhưng rất hiệu quả. Trên cửa ra vào hiển thị một xâu khá dài các ký tự số. Các chữ số có thể di chuyển đổi chổ cho nhau hoặc bị xóa. Muốn mở khóa người ta phải di chuyển các chữ số và trong trường hợp cần thiết – xóa vài chữ số để nhận được xâu lớn nhất thỏa mãn điều kiện đã cài đặt. Điều kiện này được thay đổi thường xuyên. Hôm nay điều kiện đó là “Số nhận được phải chia hết cho 3”. Số nhận được có thể bắt đầu bằng các chữ số 0. Xâu “000” sẽ lớn hơn xâu “00”.\n",
        "\n",
        "Hãy xác định khóa mở cửa.\n",
        "\n",
        "***Dữ liệu***: Vào từ thiết bị nhập chuẩn gồm một xâu ký tự số có độ dài lớn hơn 2 và không vượt quá 105.\n",
        "\n",
        "***Kết quả:*** Đưa ra thiết bị xuất chuẩn xâu khóa mở cửa.\n",
        "\n",
        "**Ví dụ:**\n",
        "    \n",
        "    INPUT\t    |    OUTPUT\n",
        "    105          |     510 \t\n",
        "\n",
        "\n"
      ]
    },
    {
      "cell_type": "markdown",
      "metadata": {
        "id": "jui8NoKwT9y9"
      },
      "source": [
        "#Analysis:\n",
        "\n"
      ]
    },
    {
      "cell_type": "markdown",
      "metadata": {
        "id": "u2rioZYRd1yG"
      },
      "source": [
        "*Tìm một dãy số là password key sao cho key lớn nhất và key $\\vdots $ 3*\n",
        "\n",
        "Phân tích bài toán :\n",
        "\n",
        "Có 3 trường hợp (theo mức độ ưu tiên cần xét)\n",
        "- Tổng các chứ số đã chia hết cho 3\n",
        " - Nhiệm vụ đơn giản chỉ là sắp xếp các số  trong dãy giảm dần, từ đó sẽ lấy được passwword thoả mãn yêu cầu bài toán\n",
        "- Tổng các chữ số chia 3 dư 1 (có 2 trường hợp)\n",
        "  - Xoá 1 số trong tập du_1 = [1, 4, 7]\n",
        "  - Nếu không có, xoá 2 số trong tập du_2 = [2, 5, 8]\n",
        "\n",
        "- Tổng các chữ số chia 3 dư 2\n",
        "  - Xoá 1 số trong tập du_2 = [2, 5, 8]\n",
        "  - Nếu không có, xoá 2 số trong tập du_1 = [1, 4, 7] \n",
        "\n",
        "*Note: * Việc xoá cũng thực hiện theo tuần tự, xét số nhỏ và xoá trước, không có mới xét các trường hợp tiếp theo."
      ]
    },
    {
      "cell_type": "markdown",
      "metadata": {
        "id": "HEu3uFbreB0a"
      },
      "source": [
        "#Pattern Recognition\n",
        "- Bài toán khá đơn giản và dễ hiểu nên ta đi vào cài đặt luôn"
      ]
    },
    {
      "cell_type": "markdown",
      "metadata": {
        "id": "VCw5vneceLL-"
      },
      "source": [
        "#Algorithm Design: Pseudocode\n",
        "\n",
        "\n",
        "pas = $\\overline{a_{1}a_{2}a_{3}...a_{n}}$\n",
        "\n",
        "sum = $\\sum_{i=1}^{n} a_{i}$\n",
        "\n",
        "**Đánh giá:**\n",
        "\n",
        "**if sum mod 3 = 1**\n",
        "\n",
        "    for num in [1, 4, 7]:\n",
        "\n",
        "        if count(num) != 0:\n",
        "            count(num) -= 1\n",
        "            break\n",
        "    else:\n",
        "        check = 2\n",
        "        for num in [2, 5, 8]:\n",
        "            if count(num) >= 2:\n",
        "                count(num) -= 2\n",
        "                check -= 2\n",
        "\n",
        "            elif count(num) == 1:\n",
        "                count(num) -= 1\n",
        "                check -= 1\n",
        "            if check == 0:\n",
        "                break\n",
        "\n",
        "**if sum mod 3 = 2**\n",
        "\n",
        "    for num in [2, 5, 8]:\n",
        "        if count(num) > 0:\n",
        "            count(num) -= 1\n",
        "            break\n",
        "    else:\n",
        "        check = 2\n",
        "        for num in [1, 4, 7]:\n",
        "            if count(num) >= 2:\n",
        "                count(num) -= 2\n",
        "                check -= 2\n",
        "            elif count(num) == 1:\n",
        "                count(num) -= 1\n",
        "                check -= 1\n",
        "            if check == 0:\n",
        "                break"
      ]
    },
    {
      "cell_type": "markdown",
      "metadata": {
        "id": "d4_Tu0dRft4E"
      },
      "source": [
        "#Analysis of the function\n",
        "- sort_reverse() #sắp xếp giảm dần\n"
      ]
    },
    {
      "cell_type": "markdown",
      "metadata": {
        "id": "nqGiP2v5gS74"
      },
      "source": [
        "#Result\n",
        "![Capture.PNG](data:image/png;base64,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)"
      ]
    },
    {
      "cell_type": "markdown",
      "metadata": {
        "id": "LTETrBvSguRn"
      },
      "source": [
        "#Code\n",
        "\n"
      ]
    },
    {
      "cell_type": "code",
      "metadata": {
        "id": "qKR3OhGcg_FS",
        "colab": {
          "base_uri": "https://localhost:8080/"
        },
        "outputId": "d95c6801-692c-4fe0-dd13-4fb6919a370d"
      },
      "source": [
        "from collections import Counter\n",
        "n = input().strip()\n",
        "count_number = Counter(n)\n",
        "\n",
        "mod_number = []\n",
        "\n",
        "mod_number.append([])\n",
        "mod_number.append(['1','4','7'])\n",
        "mod_number.append(['2','5','8'])\n",
        "mod_number = [[x for x in d if x in count_number] for d in mod_number]\n",
        "\n",
        "sum_digit = sum(int(digit)*count_number[digit] for digit in count_number)\n",
        "\n",
        "mod = sum_digit%3\n",
        "\n",
        "\n",
        "if mod:\n",
        "   \n",
        "    count_digit_same_mode = sum(int(count_number[number]) for number in mod_number[mod])\n",
        "    \n",
        "    number_digit_delete = 1\n",
        "    if not count_digit_same_mode:\n",
        "        mod = 3 - mod   \n",
        "        number_digit_delete = 2\n",
        "\n",
        "    for _ in mod_number[mod]:\n",
        "        \n",
        "        __ = min(number_digit_delete, count_number[_])\n",
        "        number_digit_delete -= __\n",
        "        count_number[_] -= __\n",
        "\n",
        "for _ in sorted(count_number.keys(), reverse=True):\n",
        "    print(_*count_number[_], end=\"\")\n"
      ],
      "execution_count": 2,
      "outputs": [
        {
          "output_type": "stream",
          "text": [
            "105\n",
            "510"
          ],
          "name": "stdout"
        }
      ]
    }
  ]
}