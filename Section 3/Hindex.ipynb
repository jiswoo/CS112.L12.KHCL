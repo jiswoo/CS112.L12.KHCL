{
  "nbformat": 4,
  "nbformat_minor": 0,
  "metadata": {
    "colab": {
      "name": "Hindex.ipynb",
      "provenance": [],
      "toc_visible": true
    },
    "kernelspec": {
      "name": "python3",
      "display_name": "Python 3"
    }
  },
  "cells": [
    {
      "cell_type": "markdown",
      "metadata": {
        "id": "AtB_ydNzPe7J"
      },
      "source": [
        "## <strong>Bắt đầu</strong>\n",
        "\n",
        "Nhóm 15 - SE112.L12.KHCL\n",
        "- Phan Khắc Cường - 18520548\n",
        "- Nguyễn Anh Khoa - 18520922\n",
        "\n",
        "  ![](https://i.postimg.cc/k445hYdx/logo-uit.png)"
      ]
    },
    {
      "cell_type": "markdown",
      "metadata": {
        "id": "1Md3uzbARqBP"
      },
      "source": [
        "#**Đề bài: H_Index (1s, 100MB)**\n",
        "\n",
        "\n",
        "Làm thế nào để đánh giá sự thành công của một nhà khoa học? Dựa vào số bài báo được công bố hay dựa vào số lần một bài báo được trích dẫn tới ở công trình của những người khác? Cả hai tham số đó đều quan trọng.\n",
        "\n",
        "Một bài báo có điểm số trích dẫn là c nếu nó được trích dẫn tới c lần trong các công trình của những nhà khoa học khác. Một trong số các cách đánh giá sự thành công của một nhà khoa học là tính chỉ số ảnh hưởng $H\\_Index$ dựa trên sự kết hợp giữa số lượng bài báo và chỉ số trích dẫn của các bài báo đó.\n",
        "\n",
        "Chỉ số $H\\_Index$ của một nhà khoa học bằng k lớn nhất nếu người đó có k bài báo, mỗi bài có điểm số trích dẫn không nhỏ hơn k. Ví dụ, một người có 10 bài báo, mỗi bài báo được trích dẫn không dưới 10 lần thì $H\\_Index$ của người đó ít nhất là bằng 10.\n",
        "\n",
        "Một người có n bài báo, bài báo thứ i có điểm trích dẫn là $c_i$ ($i = 1 \\div n$). Hãy xác định $H\\_Index$ của người đó.\n",
        "\n",
        "**Dữ liệu**: Vào từ thiết bị nhập chuẩn:\n",
        "\n",
        "Dòng đầu tiên: chứa một số nguyên $n$ $(1 ≤ n ≤ 5*10^5)$.</br> \n",
        "Dòng thứ 2: chứa n số nguyên $c_1, c_2, . . ., c_n$ $(0 ≤ c_i ≤ 10^6, i = 1 \\div n)$. \n",
        "\n",
        "**Kết quả:** Kết quả: Đưa ra thiết bị xuất chuẩn một số nguyên  $H\\_Index$ tìm được.</br>\n",
        "\n",
        "**Ví dụ:**\n",
        "\n",
        "| Input | Output |\n",
        "| -:-   |   -:   |\n",
        "| 5     |   4    |\n",
        "|8 5 3 4 10      |\n",
        "\n",
        "\n"
      ]
    },
    {
      "cell_type": "markdown",
      "metadata": {
        "id": "jui8NoKwT9y9"
      },
      "source": [
        "#Analysis:\n",
        "- Gọi $Hindex$ của người đó là n, danh sách các bài báo có số lần trích dẫn $≥n$ là $m_1,m_2,...m_n$ đặt $temp = len(n) - 1$\n",
        "- Ta có:</br>\n",
        "Với dãy đã sắp xếp tăng dần:\n",
        "\n",
        "  $Hindex=n$ nếu $m_n≥n$  và $Hindex=temp$ nếu thỏa mãn điều kiện\n"
      ]
    },
    {
      "cell_type": "markdown",
      "metadata": {
        "id": "u2rioZYRd1yG"
      },
      "source": [
        "#Abstraction\n",
        "Cho dãy số nguyên $n$ phần tử $c_1,c_2,..,c_n (n \\lt 5*10^5, 0 \\lt c_i \\lt 10^6, i =1 ÷ n).$ Tìm $k$ lớn nhất sao cho có ít nhất $k$ phần tử trong dãy lớn hơn hoặc bằng $k$"
      ]
    },
    {
      "cell_type": "markdown",
      "metadata": {
        "id": "HEu3uFbreB0a"
      },
      "source": [
        "#Pattern Recognition\n",
        "- Giải thuật Sort (Sắp xếp)"
      ]
    },
    {
      "cell_type": "markdown",
      "metadata": {
        "id": "VCw5vneceLL-"
      },
      "source": [
        "#Algorithm Design: Pseudocode\n",
        "```\n",
        "START:\n",
        "    input(n)\n",
        "    sort(n)\n",
        "    for i in range(len(n)):\n",
        "        temp = len(n) - i\n",
        "        if temp <= n[i]:\n",
        "            break\n",
        "    ouput(temp)\n",
        "END\n",
        "```\n",
        "**Đánh giá:**\n",
        "\n",
        "- Độ phức tạp thuật toán: $O(nlogn)$\n",
        "- Bộ nhớ: $O(n)$\n",
        "- Đảm bảo thời gian chạy cho đề bài $(1s, 100MB)$[văn bản liên kết](https://)."
      ]
    },
    {
      "cell_type": "markdown",
      "metadata": {
        "id": "d4_Tu0dRft4E"
      },
      "source": [
        "#Analysis of the function\n",
        "- Hàm $Hindex(n)$ để tính giá trị cần tìm là số nguyên dương.\n"
      ]
    },
    {
      "cell_type": "markdown",
      "metadata": {
        "id": "nqGiP2v5gS74"
      },
      "source": [
        "#Result\n",
        "![result.PNG](data:image/png;base64,iVBORw0KGgoAAAANSUhEUgAABKQAAAC2CAYAAADnclVTAAAAAXNSR0IArs4c6QAAAARnQU1BAACxjwv8YQUAAAAJcEhZcwAADsMAAA7DAcdvqGQAADPTSURBVHhe7Z1v7B3Veef7blOKQrcbgkTaRazIYqS4UiX6JlKqTXep3EjrF4F9sWzkhEZIWSREpUrkRVIQMtBFNV2CYkIlsouxm8gtKM7Glgm4smrnt1R2TEBtiWu3tteSsYiAre2s5P7j7Jz5e+bMM3PnnnPvnHPu/Xylj/CdP3fmPs95njnz/c29/IxCCCGEEEIIIYQQQmhCYUghhBBCCCGEEEIIoUmFIYUQQgghhBBCCCGEJhWGFEIIIYQQQgghhBCaVBhSCCGEEEIIIYQQQmhSYUghhBBCCCGEEEIIoUmFIYUQQgghhBBCCCGEJhWGFEIIIYQQQgghhBCaVBhSCCGEEEIIIYQQQmhSYUghhBBCCCGEEEIIoUmFIYUQQgghhBBCCCGEJhWGFEIIIYQQQgghhBCaVBhSCCGEEEIIIYQQQmhSYUghhBBCCCGEEEIIoUmFIYUQQgghhBBCCCGEJhWGFEIIIYQQQgghhBCaVEszpO74j/8JAAAAAAAAAACgw1INqds/+e9WnnX5nEMQAwA/qKE0IW/uEDt3iF1ckA8ASBl6GIQGQ8oTipgYAPhCDaUJeXOH2LlD7OKCfABAytDDIDQYUp5QxMQAwBdqKE3ImzvEzh1iFxfkAwBShh4GocGQ8oQiJgYAvlBDaULe3CF27hC7uCAfAJAy9DAIDYaUJxQxMQDwhRpKE/LmDrFzh9jFBfkAgJShh0FoMKQ8oYiJAYAv1FCakDd3iJ07xC4uyAcApAw9DEKDIeUJRUwMAHyhhtKEvLlD7NwhdnFBPgAgZehhEBoMKU8oYmIA4As1lCbkzR1i5w6xiwvyAQApQw+D0GBIeUIREwMAX6ihNCFv7hA7d4hdXJAPAEgZehiEBkPKE4qYGAD4Qg2lCXlzh9i5Q+zignwAQMrQwyA0GFKeUMTEAMAXaihNyJs7xM4dYhcX5AMAUoYeBqHBkPKEIiYGAL5QQ2lC3twhdu4Qu7ggHwCQMvQwCA2GlCcUMTEA8IUaShPy5g6xc4fYxQX5AICUoYdBaDCkPKGIiQGAL9RQmpA3d4idO8QuLsgHAKQMPQxCgyHlCUVMDAB8oYbShLy5Q+zcIXZxQT4AIGXoYRAaDClPKGJiAOALNZQm5M0dYucOsYsL8gEAKUMPg9BgSHlCERMDAF+ooTQhb+4QO3eIXVyQDwBIGXoYhAZDyhOKmBgA+EINpQl5c4fYuUPs4oJ8AEDK0MMgNBhSnlDExADAl9RraN+5svFfeV09Jaz35xl17EpxiMsnnhHWh4He507ssXvqRDng1Dm1T1gfEsZdXJAPAEgZehiEBkPKE4qYGAD4EqyGvva6ulz2bFNn9gvbDrB0Q8o8z3MH5G0CQO9zZ7GxawzLrq6oY1+T9hkGQwrGQj4AIGXoYRAaDClPpvyc+qZvMU8HHFBnshzNe9PZB40MwI8QNdTccHcVnSHV84RU/RkCmVT0PncWG7shQ6rUnGMTQwrGQj4AIGXoYRAaDClPpvycizOkLPZnb+xxI0kjA/Bj+hoqTOlcVu3rG/H4DCkJw4TAkEqOxcaubywY4zzTPNdPDCkYC/kAgJShh0FoMKQ8mfJzYkgBrCbT11C/IWUiGU3SjXprO+trgKa51b9d+V66F9UyjYDmfPMe2PNVw6X0xwHofe4sNnZD5mT/WK/HYylz/AyOc0PNPsZxekwxnkpeTcgHAKQMPQxCgyHlifvnNCav9W9c6GXtv8bqCXA1idX/vnzigPHVBPO3MfS+2esTzYw538+4wWsmw+W22b7NpLuQy4SZRgbgR4ga6txcC08Z1duMNqSuCEZR06cGt5OW1efU9EsMqdVgsbEbflquGevVmO3/il81hrrjfPY+3eNk1Nfg9rXdB8ZdXJAPAEgZehiEBkPKE7fPWUxsu+bPbEPKvLkrJrrV9uUNWzUZrybBrdfmttb7WH85ngcaGYAfoWqouYE2ZNzQ1+vHGlKZ6r5mmEbdG/aq/7Rv8ot9jWX1cS1DKl9mbCeYEFNA73NnsbEbHgvNuCvHbG0S2ddTvagYc9I4t+nUhzHm29ftTAsco4y7uCAfAJAy9DAIDYaUJ66fU09Su3/Nn21ItfcxjS3LZBp8ba3DkAIISugaqm+aS3UMpLGGVKuPdE0Cabtxy3TPKoQhtRosNnbzGVLNGJZkb9OM89796nFqn0c1bs1rsT+Mu7ggHwCQMvQwCA2GlCfun7OZuDY3WHryOo8hZa63TKbB19Y6DCmAoERRQ+bX4Mp+0DWGMKRM6H3uLDZ2A2PBHNf2OBRVXBs747x+qirTwHhuPWllPXVVn5MnjLu4IB8AkDL0MAgNhpQn/p+zmEg3ptI8hpTet8dkGnxtrcOQAgjK9DXU7TXDN+7VtsaNv2RI2X2lVNW3pBv4ccv0+RbCkFoNFhu7nrFgjulM1bW0MZvMa2Qb25CqX9fvbxyzdf2sxuoVdblcb/8hyRfGXVyQDwBIGXoYhAZDypNFfE5981VMWIsJbjVprm7oTEPKvAnMJ8itG7Y+A8p+ba3DkAIIyvQ1VN00y+reuEuSDClJwnaD5pO0rDlf8+bePu6ib/xnQe9zZ7GxM41SWe2x0T/+u2PfMqQkWdfP9rjsN71cYdzFBfkAgJShh0FoMKQ8cfuc1uTZ/Iuu8VSBXq4ntqYhdfnE68ZEurnR65hMg6/tdc351GbYHNDIAPwIUUO2mVPI7CnCdllPsm/UW9tkN+b7Wjfu7fczt1uEIWUu18KQSofFxm7AkLLMoln79BlSeplZC3qsSWM3R3jacJEw7uKCfABAytDDIDQYUp5QxMQAwBdqKE3ImzsrHTvDkHL5I88sGHdxQT4AIGXoYRAaDClPKGJiAOALNZQm5M2dVY5d8yRV94nDRcC4iwvyAQApQw+D0GBIeUIREwMAX6ihNCFv7qxe7LpfAVzG01Eaxl1ckA8ASBl6GIQGQ8oTipgYAPhCDaUJeXNn9WLXNqSWZUZpGHdxQT4AIGXoYRAaDClPKGJiAOALNZQm5M0dYucOsYsL8gEAKUMPg9BgSHlCERMDAF+ooTQhb+4QO3eIXVyQDwBIGXoYhAZDyhOKmBgA+EINpQl5c4fYuUPs4oJ8AEDK0MMgNBhSnlDExADAF2ooTcibO8TOHWIXF+QDAFKGHgahwZDyhCImBgC+UENpQt7cIXbuELu4IB8AkDL0MAgNhpQnFDExAPCFGkoT8uYOsXOH2MUF+QCAlKGHQWgwpDyhiIkBgC/UUJqQN3eInTvELi7IBwCkDD0MQoMh5QlFTAwAfKGG0oS8uUPs3CF2cUE+ACBl6GEQGgwpTyhiYhAXB9SZsgYvn3hGWF8xdjuYgpRr6KkTV4qBdOV19ZSwfpWh97lD7NwhdnFBPgAgZehhS+Zrr6vLxUxZndkvrAcMKV8oYmIwjmfUsfK+vaNzB4TtXcGQSpH4aqgZH/06p/a1xrV+Lb3X6rKUvBkTF1OrNomJZsy34n1FHftae/2+c8WamOLvHDsmxUuBORCYVD2jpTX8gw2kAz1M03Oftoh7NK69M0nTkMoT2504zkX+Hv43UBQxMRjHgCGltbDJCoZUisRXQ2MNKZ6Qkpa7UsdSEIbUMijHeTnhLG4kjXnB/uLOMrYe6Rw7JsVLgTkQFAxcN43rY2VYufQVn30B+lj7HlZe60VhSE1C1IZUd3LuaUKZJGlI6Ytdc87izctCn7YZB5OxMRiGlJGj5i9pixrbY42msdvBFMReQ/U45a+8LRabN+Nmxoqz7vUYUkugnIRWsS2uqVUvLvMR4Zh3jh2T4qXAHAg05py8XV9ZL6n7iM/ci3kbLIe17mHGdbF7L5bVHIbUJERvSC2t6a6IIWXHp/MX3glgMjYG2ZAyXfm8SbWaVjX5MBtkMyGp1WqW7QmLOUFqj4v2ds3+pklWyFzfvJ9+L/NcynMcbOzQR+w1NGRIddZZF15zPBVjqf20oD3+Wu9ZStomBhabN6OeZpog3T7QipHw177ODVK5/PKJA3U+6m1aday1+GtKFGN+wJAqxmCcPcw5dlZtdreRn+Q1t+2/Bgjv2RqHWSz3d48v9Zb2MaT3KtWpE+v8s2uj9P6aRfYY5kCgMedbYn1JYzhTvm2n52rNGP+Z7H2b45o9vhrbQn3PvNbAOrDOPay5Foy53nfnXuKDICOufTkTzLVSIU1DKk9gmbTq30byzX3MC0Qr0eZ7eDBtEetCaM65Lz66uHwmV/PCZGwMsiHVaYSd5qRVruuZkOSqJxXGJOSKPfPIJG03NFkpVW3T1FM29uxts+N1zp3Jzihir6G+mzpxnTGGu2NQGDfV+M7fb/YYjIlF563pB6WkiY7YI5r4dN7DUBNDYVKVKZ8o9fYZ/+ulSRxjvoxDGec8dnoclzGIccxpnGNnjJ3WpLhGHhda1faD1wBzjAxdrzJV7yf1luYY7fmOqHq//t6Ra8R2rvlmDgQ5nd5s3eD21MSovju0r1jX9hyvZ9wbdQfry/r2MOOaJ823TIauaWYdjbz2zaz5NWNFDKlM1UDKX1cXgawBn2sGST7xaW3nn/Rpi1gXTnuCJsZHD/IJLzJMxsYwY7LcGpelWjk09u9pfEWTM28o2mOlUFUb9mTFfC9jElUtK49p3hRUTdW8Aa7eq1m2no11XmKvIemmsXedOYarcW1eeKvtOmPXXNY/BqvjxsAy8mbWU616omT2EbO2DqhjuvaM2JvXhm49yn2i9f7CMZubHX+iGfPm2MxjUcZGjzdzLNs3lwFxjp3xecblsjsezGtANca61wX5emWO7c71w9iueb+B64fdK6R+Il1Pl9BjmANBTatnVDJ7hzD3khBrtWffUduOPC6sJWvbw8x6rec8EvI1rXvdMbYzrl+D18glz7VSIbHfkCqTmw8g4d85RULFZOqBUyW+s58b0xaxvqC0B7h4YdGfzXFi5QKTsTGYTaqt1lg1mmM7t32TiZGTDuN9i+N1t+vWm6li3Ek3CmOXQT+x15B009i7rjPWxi8bMwar48bAMvNm3rxrDdZ3hXSzLS5v3qc9CTOWCxKP6UisY76Iu45TGYsyPsXyOMagc+ykOrSwx12tMg5ibx9xfZG3E/pHxqxjtFWM6b5rjv3+y+gxzIGgQ2e8VmOrr4f3996mVsfXlbRtp7YnvE+AuFnfHmbUXWsuZDO7bovlY2vUOK6g9jHWg9X5yp6xXjfduikb7mWudTCkTONtApiMjUFywwXEiUV7eTvn/s2w2q73RiRX/6R/7DLoJ/Yakm4ae9dJY3jksjFjsDpuDCw9b0aM8vgar6Xe39SdFasBQ6qvT4ha4HUlyjFfximPSfnvamwWsY1jDDrHTqpDg2b8VOOie90Se7v9vn3jVDi+1Fu6x2jGa73MGtNN72hfc+z3X0aPYQ4EfZjjrRjzUu81/2BZjkGxVsfO7/q3NWu8UBw9DcKyvj3MrL2B+5W+a5pdZ2OvfcZrURPew8fCahtSesJi3kDp11WShf1cmLaI9cBvzlmOT1FczUVp+TAZG4OnIWXub4/pUsX2TXM0t2smRdXkoztZaSYq/ROU7o3C+GXQT+w1ZN/UDa6TxvDIZWPGYEwsNm/t/p5jxKjoG32TJ/ev7LWvIUb/WPKEKL4xX372ahyvoSFVjZNmTHTHg9jbO+9r7Cdeh5rjd8emMMbr92+OafeK5rXx2cz6Kc9jGT2GORBo9Niy5+TN+K7Gm9R7q2XGmOzM7fr2zZD6vrG/fU72PlIvgPVinXuYee1oXdc0uk7suZc5D577HkzYbslzrVRYaUMqH2RGovMBUb0W9nNh2iLWA7g9IWvHpyyYiQc3k7ExGM1sKD9DkwSj8XVUNz6jyUmqjy1NbPr3rc6ladztcThmGfQTew3VF1PzQty3ThrDY5eNGIMxsdi8Dddu/fl7+kBVx+bEx5ZU6/Y1tqldS0LufYhtzBdxM02KMkZlz8zXLzgGrjjHzqg5W3ocDI2dKg5ibxdquXcclRq3XXmMgfNucjZcP2Ouka49hjkQaAbHcj3+TMO1UPN/VJbVjEtpX718eP+ix/dtwxwN6GFjrn3j7sEWcO2LZJ4xNSv+lb128z5zLltRDSxhPxemLWJ9QWnOWRrMrhMqH5iMjWEBhpS1vlK7RppJh/m/c8/VOq65nbl/d8Kj1W2g0jgcXgb9xF5D9cVauFB21kljeOyynOExGBOLzps8KRJqSOgDZny61wb7aZC++i+RJl4LniTFNOareHVi0YpDPL3MOXbCuKlUfHZrzrS/e90Se3tPLbfGsx4/Y7bLjiMew8yFfq/6tTG2rc+njyH3rsX2GOZAkNNTX52+IozT9rJs3PfUirhvZ7muCbvHN68bxdPTICz0sAyrtioN1Z+WNIdqz8EG6nmCuVYqRG1IpQBFTAwAfKGG0oS8uUPs3Ek1ds0k3TZIl4VxEz70hyBPGMsAkDL0MAgNhpQnFDExAPCFGkoT8uYOsXMnidjtP9f/l+Wl/AX4GXXsXPt9zSevWueyYBjLAJAy9DAIDYaUJxQxMQDwhRpKE/LmDrFzJ4nYSV9FyLWsp6Pkr+HlWuLTURrGMgCkDD0MQoMh5QlFTAwAfKGG0oS8uUPs3EkidpP/NsZifxdqHhjLAJAy9DAIDYaUJxQxMQDwhRpKE/LmDrFzh9jFBfkAgJShh0FoMKQ8oYiJAYAv1FCakDd3iJ07xC4uyAcApAw9DEKDIeUJRUwMAHyhhtKEvLlD7NwhdnFBPgAgZehhEBoMKU8oYmIA4As1lCbkzR1i5w6xiwvyAQApQw+D0GBIeUIREwMAX6ihNCFv7hA7d4hdXJAPAEgZehiEBkPKE4qYGAD4Qg2lCXlzh9i5Q+zignwAQMrQwyA0GFKeUMTEAMAXaihNyJs7xM4dYhcX5AMAUoYeBqHBkPKEIiYGAL5QQ2lC3twhdu4Qu7ggHwCQMvQwCA2GlCcUMTEA8IUaShPy5g6xc4fYxQX5AICUoYdBaDCkPKGIiQGAL9RQmpA3d4idO8QuLsgHAKQMPQxCgyHlCUVMDAB8oYbShLy5Q+zcIXZxQT4AIGXoYRAaDClPKGJiAOALNZQm5M0dYucOsYsL8gEAKUMPg9BgSHlCERMDAF+ooTQhb+4QO3eIXVyQDwBIGXoYhAZDyhOKmBgA+EINpQl5c4fYuUPs4oJ8AEDK0MMgNEs1pAAAAAAAAAAAAGyWZkidOf+2unz58sqzLp9zCGIA4Ac1lCbkzR1i5w6xiwvyAQApQw+D0GBIeUIREwMAX6ihNCFv7hA7d4hdXJAPAEgZehiEBkPKE4qYGAD4Qg2lCXlzh9i5Q+zignwAQMrQwyA0GFKeUMTEAMAXaihNyJs7xM4dYhcX5AMAUoYeBqHBkPKEIiYGAL5QQ2lC3twhdu4Qu7ggHwCQMvQwCA2GlCcUMTEA8IUaShPy5g6xc4fYxQX5AICUoYdBaDCkPKGIiQGAL9RQmpA3d4idO8QuLsgHAKQMPQxCgyHlCUVMDAB8oYbShLy5Q+zcIXZxQT4AIGXoYRAaDClPKGJiAOALNZQm5M0dYucOsYsL8gEAKUMPg9BgSHlCERMDAF+ooTQhb+4QO3eIXVyQDwBIGXoYhAZDyhOKmBgA+EINpQl5c4fYuUPs4oJ8AEDK0MMgNBhSnlDExADAF2ooTcibO8TOHWIXF+QDAFKGHgahSd6Qeu/tk+r4sT9VhzP2bxzM/3v42HH11tvvitsvGoqYGAD4Qg2lCXlzh9i5Q+zignzALF6/8Bdq26u/ozbv/U216dt3TIY+nj6uPr50XgCaVephP33nz9U/vv4bSh25Vqk/+xerS/b59OfUn1eKQ2okaUid//FB9Y1v3aW27rxV/fuvD7Dzk+rz33pG7f/xBfF9FgETEWIA4As1lCbkzR1i5w6xiwvyAUNoM+iX935GNIymQh8fUwr6WJUeps0ZdfTDsoGzqmSfdxVMqaQMqYunDqqnn79dNp9msOX5p9T+U4s3ppiIEAMAX6ihNCFv7hA7d4hdXJAPGEI/oSSZRFOjz0M6P4BV6WH5k1GSabPi6M8txSMl0jCkLl1QGwc+p7ZIRtOzn1MPvvSE2rHP4KUH1L3PSsbV7ereAxvq4iXhGI4wESEGAL5QQ2lC3twhdu4Qu7ggHzDE1F/T60Ofh3R+AKvSw1b+a3p9ZJ9bikdKxG9IvX9S7d1tmUs7t6oHDxxUb1wQtje58Kbaf+ABdbf11b4tu3ert94XtneAiQgxAPCFGkoT8uYOsXOH2MUF+YAhJHMoFNL5AaxKDxPNmjVBikdKxG1IXTqp9u7abJhJm9XdLx5Up+c1k94/q/a/uLX1hNWWXbvV6QU8KcVEhBgA+EINpQl5c4fYuUPs4oJ8wBCSMRQK6fwAVqWHSUbNuiDFIyUiNqTeVRsvbTHMqC3qkdfOCtuN5/xrX1V3GqbUnS9tqIvCdvPARIQYrAxn/0lt/coH6ptnhXWwVKihNCFv7hA7d4hdXJAPGEIyhkIhnR/AqvQwyahZF6R4pES0htT5Iw8YTzRtUTtOvCtuNy8XT2w3TKnN6sEjfj90zkSEGLhyaLdSP7P7H8R1p1/+oHddm39Qv/sVpX73h9K6OcGQCgY1lCax5u3Mni+qmz9+W8kX1a7T8nYhYcy7Q+zignzAEJIxFArp/ABWpYdJRs26IMUjJeI0pN45qB6pf/dps7rv0El5O0dOH/qtxuza+VX1yjvydmNgIkIMXMGQggpqKE1izFthRj2qjva8joVVGvN5jLdviOuWQWqxO7r9NrVtj98T7jFD/4YhJGMoFNL5AaxKD5OMmnVBikdKRGlIvfX9u0ozKuP5xfzWU4tLJ9Xu58v3z/j8990Nr+UW8YZ6uP4rtzmhO6t2faFZ3qBvOobW2e+/GJiMuYEhBRVh+khB62ma1k21634yQ9vrG9Z53qu1/Rf2qDPm+iOPNuuWbMTE1/uKnD18xFxWXBNiMwTcY1eOS2Gc6HHR/uwjaY2ZEntcDbCqhlSrZnPG1FMx3sw8TGVItc93OhOWORAMIRlDoZDOD2BVephk1KwLUjxSIj5D6tKG2lE/HfVp9fSbwjZzcvrwl9SWnV9Se//WWP7mU2prZXrt3K42HE2vpRbxkT3NVy1O71HbBr56MTThW/ZkkMmYG8sypKr3zd8jW1fwz+pQa7/yGPX6D9Q3fygbUvn7mduV64v929sXy7rHgmGWWUNn9jxq9A3LsNA34vWNd9u4cN1PZPA42U2ktW7QVMh64cPGsXJzqjYD9Hk2fXLZRkF0vS83Vro34u0YxYF77IocbxPGif6cg2OnDx03Kz6FuTHu647LHmc2U407/bnMum7Xah+hDKnsuHuaHEw55pkDwRCSMRQK6fwAVqWHSUbNuiDFIyXiM6RObG++TqefjpK2mYP21/NMU+qs2ls/JbVZ7TjR3m8s0xWxnuT1TI61WdU3SRxatyCYjLmxVEMqW7b15avlsqvqm3/QPlbXOCrexzaYOuf4w39ubdNazxNWzkxZQ+bNYecGvmUctXHdT9O/vdDXBHNgEPPYdr9bcv+Lrff1GQbjjIRpcY+dNqQeVUd1bi3zzR5n+eeun5gZMJd6xly+v7k8P2b1fs2x29sV5m113NqIEWrErKl5mGrc6c/VPr/+2BcxeKH12avPW3zOjdyoKta1c9Gfp9JgPmLEfWxvmLePeMAcCIaQjKFQSOcHsCo9TDJq1gUpHikRnSF1/HufLk2iW9V9h+afqJm89aphRuVsUb93rPkRc21WVeu2fu94a9+xTFbEAzdWnZu9kesWBZMxN9pPHgn4GFJ/8E9tMzc3kioDqudrfrahlL+2n3YqzK3a7Kr3sZbDXExXQ6YBJJhBwo2m336aoe171s1hnrRvmssb2PL92kbB4omt9+WfV4hd3/KQuMeuNEWyf9v5bV3vtCFhjsmhMdpnXrT2aY8t02BqnUe2vD6HfP9qH2t/43MUr8cz1bjTn0s0pPK6NecWdn9ozzt0XkyjKX9txKs/T/p42bb12C1ej5nTTDH3qWAOBENIxlAopPMDWJUeJhk164IUj5SIzJA6q/buqsyjrep//LW0zTgkM+orR6zfivrrb6q7q/W7/lidN9eNZLlFXEzszL80drYZmmQPrVsgTMbc6Dx9ZGA/IVU80SSZVf1f2ate55iGlGg0VcsNQyrfxzimgWk81edmm2AwmqlqqHUj2LlBrpZ1e8Y8++U359XTDHnfGt6+/d7la/NGv/Ve5ntk2DezOfq9y32M910GsfW+PF5CnPqWh8Q9ds3Ysc2PxoTomiLt9RZ9hpQ9rlvbDK2rMI0a6/i9x5zNVONOfy7TkDJrtbVOzzXq8SUbUi1jS3/2fPtZedIxbveOznuZ5P2gqH0xz0uCORAMIRlDoZDOD2BVephk1MTBNWrvZ29T9zx+jbBuMUjxSInIDKnj6ulnKwPpAbX/bWmb2YwyozRvf1c9WG3z7FPquL1+BJMVcW4udSdZ9oRx7LpFwmTMjXkMqX6WbEiNMZkq4wpDypnl11Bh0rT7R/tmOadjYrvuZzJr++KmtL6R3GPe3PZj3hzX2AaV/XrBRNf7ej6vGKvAuMeuMYLy18ZYaowMYcxl9F4Tddyk+Oj3Lsei3rcaow3FMfJ19f7t8dz6CppxnOZc52eqcdf5zGaMrNg0cS0+v/nZOiZSve+sPHUNqfax+snH/Ig+sgiYA8EQkjE0Ly9eUuryO38orpsH6fwAVqWHSUbNXOz7iLrHvOZpPvsR9RNp27nAkJpFZIbUhtpRm0jb1Ya9/m//WP32zs3qvlf7/694o82onBnHG8GURdydiMmTudnrFguTMTfCGlLCV/bybeyv7BmvRfTx+cqeL8utIesGvqZ745jfMNc3ca772cy3/Zgbzr6b+c6Nr3TsBRJd78vNGbvvLzcGrrjHrjsu9ZjRZkkzLuTP3Ddu+gwpczwNjcvq+N3j6tdmPvRrfe59tTWOqcbdrFo8ul1/NukztuPcqcuWITWUJ3dDqr9/LR7mQDCEZAyN4w/Va39f3lRlwpCCZbEqPUwyasZy4n5tQN2oTrSWayPJXuYChtQs0jGkcjOqWrdZ3XeoazJJZtQjrw1NXOI2pI7uMW/Y9OTKmrgZf6Gsl41Zt2CYjLkRzJCqtmk9JVW8T/tHzcsfQ7eefDq0u9rP+rF029CC0Sy1j/TdhGtaxlD75tB1P5Gx2+eGyoybyB7zoF5n9j3RoFkcMfY+nTczBrlZYsYkEtxjJxkNxZjSf82sxlX+uc3thsaWMKbsOA6NpcaQsgwUYR+97cPbHx1pqshMNe5mmj9Z3Lbpz9KKXbe+dSxlQ2pWnuYwpLL9dhnHzN93onHPHAiGkIyhMTzxzhWl/v5H6onSmMKQgmWxKj1MMmrG8JPHb1rQk1B9YEjNIpmv7L33xhPqzto80pim1LvqjZfnNaMyIv/KXjFRKybZ5kS7tb7nxmxo3aJhMuZGSEOq3i43oTTZOvGJqNJ0qrdrnoLqmlryMpjN8mqouVFvYdyo5Tfe5fLmRs91v356t9dmQLl8zNfr7L5Y0Ny0ttfLBsKiiLX3mbGO0YzSuMeu58mX3MhoXyfbY2FgbLXGYIE4pu3tymts63prbvOFR9XD9pPKgkk1L1ONO/25hmtb+EOZpopBOfaGDCn9uj9PcxhS5bk0sZ9u3DMHgiEkY2g+MKRguaxKD5OMmtlcpx7LrhmPPSet65KbV+a15v7ruttZX/275/HrREOqeCqr4ia1d5/xHnMixSMlkvpR89NHHrRMqdvVbx8+7mZGaaL/UfM0IAYAflBDaULe3Fnb2FlmjAvxxK7HHFwz6AMwhGQMzQeGFCyXVelhklEzk+duVN2v6sl0v9ZXPPnUerqqNKNMg6synkxDKl9mmln5ebibUlI8UiIyQ+qyOv69T9fG0n2HuqZS15SyGWlGZZw+9Fv1flu/d1zcZhZMRIgBgC/UUJqQN3fWNXb6aaHOE0VzEkvsZj9BtR7QB2AIyRiaDwwpWC6r0sMko2Ym2gga83W93GgSDCNrecdoyrG+spfvI/1elfvX+qR4pER0htTlE9ubp52e3y3+X7v6TanxZlT+NNbz1X6b1Y4T0jazYSJCDAB8oYbShLy5s3axq77GtoCv0gePXfn1yFi/Djo19AEYQjKG5gNDCpbLqvQwyaiZydgnpHqNq8JIKp6IMv/d3aY2m/JjFk9N2WBILVjOg/vShtpR/3j5p9XTbwrbZHRNqXnMqIw3n1Jbq313blcbl4RtRsBEhBgA+EINpQl5c4fYuUPs4oJ8wBCSMTQfGFKwXFalh0lGzUz6nnyyWbQhteAfUZfikRLxGVIZb33/rsZo0k9J9ZhFjSm1Re04fkHcRuTSSbW7fjrqVvX573f/j31jYSJCDAB8oYbShLy5Q+zcIXZxQT5gCMkYmg8MKVguq9LDJKNmNoVZJP44ucmor+z1vVfxw+ntr+yNMMHmQIpHSkRpSF1+56B6pH5Kyvy/6XU5/dozau8bc5hRGfq3o+qvBe78qnrlHXm7MTARIQYAvlBDaULe3CF27hC7uCAfMIRkDM0HhhQsl1XpYZJRM47CMOo+taQNpubrfL0/at75cfJZP2pe7mcd78T9I7462IMUj5SI05DKOH/kAeP/nLdF7TjxrrjdvFw8sd34qt9m9eCR+cwsGyYixKCPq6ceUh/84HqxcUyBPrY+B+ncNI8f+yt1y7dfVTe88PIk6GPpY0rnsu5QQ2lC3twhdu4Qu7ggHzCEZAzNB4YULJdV6WHSvdA8VMaRif2bTvY24m8+Wb8R9dhzhQHV3rY0pYztxPcaiRSPlIjWkLp8+V218dKW0jgqTKm5fiNK4PxrX2397tSdL22oi8J288BEhBhIFGbUR8WmMSX6HCRTqjCjDonG0TLRx8SU6kINpQl5c4fYuUPs4oJ8wBCSMRQK6fwAVqWHSfdB64IUj5SI2JDKuHRS7d212TClNqu7XzyoTr8vbDvE+2fV/he3Gk9c3aq27Or/bap5YCJCDCRCPhllo8/FPr8pn4yy0ce2z2fdoYbShLy5Q+zcIXZxQT5gCMkYCoV0fgCr0sOke6B1QYpHSsRtSGneP6n27r7dMKUydm5VDx44qN64IGxvcuFNtf/AA+ru+veoCrbs3q3emtfU6oGJCDGQkJpFSOzzk4yiKbHPZ92hhtKEvLlD7NwhdnFBPmAIyRgKhXR+AKvSw6T7n3VBikdKxG9IaS5dUBsHPtd6wqk2l579nHrwpSfUjn0GLz2g7n3WMrFyblf3HthQFxfwZFQFExFiICE1i5DY5yeZRFNin8+6Qw2lCXlzh9i5Q+zignzAEJIxFArp/ABWpYdJ9z/rghSPlEjDkCq5eOqgevp5yWiazZbnn1L7T/n9gLkEExFiICE1i5DY5yeZRFNin8+6Qw2lCXlzh9i5Q+zignzAEJIxFArp/ABWpYdJ9z/rghSPlEjKkKo4/+OD6hvfuktttb6K12HnJ9Xnv/WM2v/jxRtRFUxEiIGE1CxCYp+fZBJNiX0+6w41lCbkzR1i5w6xiwvyAUNIxlAopPMDWJUeJt3/rAtSPFIiSUPK5L23T6rjx/5UHc7Yv3Ew/+/hY8fVW2+/K26/aJiIEAMJqVmExD4/ySSaEvt81h1qKE3ImzvEzh1iFxfkA4aQjKFQSOcHsCo9TLr/WRekeKRE8oZUaJiIEAMJqVk48crPqquHheVzYp+fZBLZ/OorP1L/9QdvzsmP1J3fkd/PxD6fdYcaShPy5g6xc4fYxQX5gCEkYygU0vkBrEoPk+5/1gUpHimBIeUJExFiICE1i/m5Ru397G3q5k/8W3X3I9cK68djn59kEtn80f8ti3lOnTolv5+JfT7rTjQ1dHqP2vbx29S2PWdby49uz8ZhtjznC3vUGWOdzZk9X8y2+6LaddpcvqEervYX3r+mPH59rM77VOfyqDpqLAsFvc+dKWPXN2bMcT005lvrjjxaL3/4SLN9vnxGbSwKxl1ckA8YQjKGQiGdH8Cq9DDp/mddkOKREhhSnjARIQYSUrOYm4O/oB7Ib3w2qceeE9bPgX1+kknU4cApdfRqWdAj9XcXT6n/IL2XhX0+604MNZTfgGc31Luy/7ZvzjfUrvr1WbXrC32GUmE6bduzJ/uvZSQdyd63ep2bTl2jqV7Xd1NfmlUPZ++/DUMqeSaJ3cCYyY3T7Rvl62LsVgZT/zr97+p9zH/ruphuTDLu4oJ8wBCb9/6maA5NjT4P6fwAVqWHqSN+f7xPluxzS/FICQwpT5iIEAMJsWEMcfhDna/mXXryl8q/xH9MHT4kbzMW+/wkk0hkDlNqrBmlsc9n3YmphrQx1fsEU4a+Wa/Xi0+F6Bv1HsMpR9+8N+tbx9PvVxsBPeQmA4ZU6kwau86YaY9BTWNCDazT71OPz8aE0utbT0stGcZdXJAPGGLbq78jGkRTo89DOj+AVelh//j6b4j3QKuO/txSPFICQ8oTJiLEQEJqGL0c/jm1965N6uZP3ahOvFIt/5A6fG/xtZCb/8svqEvGNv/7oLHvSOzzk0yiXr5zcqYp9XcXT6pflfbtwT6fdSemGho2pKybdRdDSt/UG/t0DKnchC0Qb/IxpFaCSWPXGTPm000l9Vgeuy77t17WMqmmgXEXF+QDhnj9wl+oX977GdEkmgp9fH0e0vkBrEoP++k7f67U0Q+L90ErS/Z59eeW4pESGFKeMBEhBhJi05B45cPq65/ZVN6Ab1Jf+v1riuWHr1OPfaK4Kb/n8WvU1f95g7qjulH/1C+ql1+y3mcG9vlJJtEgA6bUvGaUxj6fdSemGpIMqfwJkXz8DRhNNZIhpY2scvx2DKwechNBOB6G1EowaezsMSONIb2sMpj61mX/bmpBG6bVU1J6zM85vj1g3MUF+YBZaDNIP6E09df39PH0cTGjYIhV6mHanMmflFr1r+9ln09/zlUwozQYUp4wESEGEmLzsHnlOrXj1ysz6hb15Sd/rlm35wb1a/nym9ULf1Isu7rrBnVnaVLd/Cv/Wn13DlPKPj/JJJqJYEq5mFEa+3zWnZhqaPYTUtn4G3wiRDKkDPIb/p6nnyz0zX/nXCTDIBD0PncmjV1nzJhPOpWMekLKWJZRjU9dM9V4Nv+9LBh3cUE+ACBl6GEQGgwpTyhiYiAhmUItDl2ndnyqNJc+/nH12Dd+trX+9EP/plh3x/XqtLFc/cn16p58n4xP3KS+u89YN4B9fpJJNIq/+WlZ4Vo/VX8kbTMC+3zWnZhqaNiQyjCeFhHXzzKkMkSjSUA8FwyplWDS2ImGVHuM5k8+5Ubr0LpmWVMH3a+xjhnbPjDu4oJ8AEDK0MMgNBhSnlDExEBCMoVszm+/SW0qzaVNd12vTte/H3WteuGOYvmvfdn4LvTha9ThL91SmFEZd9z/8+rSyB85t89PMolGgSG1FGKqoY4JZP4f8sr19c25+ORI94b+6B5zG72+/URJdbyj2w3TIDcRBGMLQ2olmDR2wphpm0ztMTu0rqBtQukxzBNS6wv5AICUoYdBaDCkPKGIiYGEZApJnH/yF+vfhtr06zeqw/8rW77vI+VTUJvUY8+V275yrXrhP99amlGb1J1f/rC6ar3XEPb5SSbRKDCklkJMNdQxpPKb+WKM5phPiow0pPIbfOM9zBv2tiFlHEcyozQYUivBpLETx4zxu2bWmBxeV4zn9lNQhcmab28/SbUEGHdxQT4AIGXoYRAaDClPKGJiICGZQn385OsfK02pW9SX//s16tKTv1TeCH1MHT5UbHN1z0fL34/apO556Nq5zCiNfX6SSTQKDKmlQA2lCXlzh9i5Q+zignwAQMrQwyA0GFKeUMTEQEIyhYa4+twN6qH/pn/U/EPq8L3lX9rv/Zct46nZpr3vGOzzk0yiUWBILQVqKE3ImzvEzh1iFxfkAwBShh4GocGQ8oQiJgYSkik0ikM/rx4q/096DzzZ/qFzH+zzk0yiUWBILQVqKE3ImzvEzh1iFxfkAwBShh4GocGQ8oQiJgYSkik0iuduLH/o/Ca1d+T/QW8M9vlJJtEovvOmeuadq2WVY0gtCmooTcibO8TOHWIXF+QDAFKGHgahwZDyhCImBhKSKTSKw9eov/z969VD9/8r9RNpvSP2+Ukm0Tzc/Zfvqf/z/95TvyesG4N9PusONZQm5M0dYucOsYsL8gEAKUMPg9BgSHlCERMDCckUCol9fpJJNCX2+aw71FCakDd3iJ07xC4uyAcApAw9DEKDIeUJRUwMJCRTKCT2+Ukm0ZTY57PuUENpQt7cIXbuELu4IB8AkDL0MAgNhpQnFDExkJBMoZDY5yeZRFNin8+6Qw2lCXlzh9i5Q+zignwAQMrQwyA0GFKeUMTEQEIyhUJin59kEk2JfT7rDjWUJuTNHWLnDrGLC/IBAClDD4PQYEh5QhETAwnJFAqJfX6SSTQl9vmsO9RQmpA3d4idO8QuLsgHAKQMPQxCgyHlCUVMDCQ++MH1ojEUAn0u9vnd8u1XRaNoCvSx7fNZd6ihNCFv7hA7d4hdXJAPAEgZehiEBkPKE4qYGEhcPfWQ+uAHHxUNoinR56DPxT6/x4/9lbrl24dEw2iZ6GPqY9vns+5QQ2lC3twhdu4Qu7ggHwCQMvQwCA2GlCcUMTHoozClwj0ppY8tmVEVhSk13ZNS+liYUTLUUJqQN3eInTvELi7IBwCkDD0MQoMh5QlFTAwAfKGG0oS8uUPs3CF2cUE+ACBl6GEQGgwpTyhiYgDgCzWUJuTNHWLnDrGLC/IBAClDD4PQYEh5QhETAwBfqKE0IW/uEDt3iF1ckA8ASBl6GIQGQ8oTipgYAPhCDaUJeXOH2LlD7OKCfABAytDDIDQYUp5QxMQAwBdqKE3ImzvEzh1iFxfkAwBShh4GocGQ8oQiJgYAvlBDaULe3CF27hC7uCAfAJAy9DAIDYaUJxQxMQDwhRpKE/LmDrFzh9jFBfkAgJShh0FoMKQ8oYiJAYAv1FCakDd3iJ07xC4uyAcApAw9DEKDIeUJRUwMAHyhhtKEvLlD7NwhdnFBPgAgZehhEBoMKU8oYmIA4As1lCbkzR1i5w6xiwvyAQApQw+D0GBIeUIREwMAX6ihNCFv7hA7d4hdXJAPAEgZehiEBkPKE4qYGAD4Qg2lCXlzh9i5Q+zignwAQMrQwyA0SzWkAAAAAAAAAAAAbJZqSK2D1uVzDokYIOQnaihNkTd3ETt3Ebu4RD4QQimLHoZCC0PKUxQxMUDIV9RQmiJv7iJ27iJ2cYl8IIRSFj0MhRaGlKcoYmKAkK+ooTRF3txF7NxF7OIS+UAIpSx6GAotDClPUcTEACFfUUNpiry5i9i5i9jFJfKBEEpZ9DAUWhhSnqKIiQFCvqKG0hR5cxexcxexi0vkAyGUsuhhKLQwpDxFERMDhHxFDaUp8uYuYucuYheXyAdCKGXRw1BoYUh5iiImBgj5ihpKU+TNXcTOXcQuLpEPhFDKooeh0MKQ8hRFTAwQ8hU1lKbIm7uInbuIXVwiHwihlEUPQ6GFIeUpipgYIOQraihNkTd3ETt3Ebu4RD4QQimLHoZCC0PKUxQxMUDIV9RQmiJv7iJ27iJ2cYl8IIRSFj0MhRaGlKcoYmKAkK+ooTRF3txF7NxF7OIS+UAIpSx6GAotDClPUcTEACFfUUNpiry5i9i5i9jFJfKBEEpZ9DAUVkr9f/jksuntkODVAAAAAElFTkSuQmCC)"
      ]
    },
    {
      "cell_type": "markdown",
      "metadata": {
        "id": "LTETrBvSguRn"
      },
      "source": [
        "#Code\n",
        "\n"
      ]
    },
    {
      "cell_type": "code",
      "metadata": {
        "id": "qKR3OhGcg_FS",
        "outputId": "cdc3a7ea-7440-4363-8a87-b04655be539b",
        "colab": {
          "base_uri": "https://localhost:8080/",
          "height": 68
        }
      },
      "source": [
        "def hindex(n):\n",
        "    n.sort()        \n",
        "    for i in range(len(n)):\n",
        "        temp = len(n) - i\n",
        "        if temp <= n[i]:\n",
        "            return temp\n",
        "    return 0\n",
        "\n",
        "m =input()\n",
        "n = [int(x) for x in input().split()]\n",
        "print(hindex(n))"
      ],
      "execution_count": null,
      "outputs": [
        {
          "output_type": "stream",
          "text": [
            "5\n",
            "8 5 3 4 10\n",
            "4\n"
          ],
          "name": "stdout"
        }
      ]
    }
  ]
}