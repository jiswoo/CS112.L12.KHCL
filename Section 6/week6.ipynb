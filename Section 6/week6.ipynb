{
  "nbformat": 4,
  "nbformat_minor": 0,
  "metadata": {
    "colab": {
      "name": "week6.ipynb",
      "provenance": [],
      "collapsed_sections": [],
      "toc_visible": true
    },
    "kernelspec": {
      "name": "python3",
      "display_name": "Python 3"
    }
  },
  "cells": [
    {
      "cell_type": "markdown",
      "metadata": {
        "id": "AtB_ydNzPe7J"
      },
      "source": [
        "[![Open In Colab](https://colab.research.google.com/assets/colab-badge.svg)](https://colab.research.google.com/github/jiswoo/CS112.L12.KHCL/blob/master/Section6/week6.ipynb)\n",
        "## <strong>Bắt đầu</strong>\n",
        "\n",
        "Nhóm 15 - SE112.L12.KHCL [Chi tiết nhóm 15](https://github.com/jiswoo/CS112.L12.KHCL/blob/master/README.md)\n",
        "- Phan Khắc Cường - 18520548\n",
        "- Nguyễn Anh Khoa - 18520922\n",
        "\n",
        "  ![](https://i.postimg.cc/k445hYdx/logo-uit.png)"
      ]
    },
    {
      "cell_type": "markdown",
      "metadata": {
        "id": "1Md3uzbARqBP"
      },
      "source": [
        "# Bài toán 1: Mức độ giống nhau \n",
        "## 1. [Đề bài](https://github.com/jiswoo/CS112.L12.KHCL/blob/master/Section%206/W6_The_same_lever.pdf)\n",
        "Một quần thể sinh vật ngoài hành tinh có gene tạo thành từ 26 cơ sở ký hiệu từ A tới Z. Mỗi gene là một xâu ký tự các chữ cái la tinh hoa. Hai cá thể khác nhau có gene khác nhau. Mức độ giống nhau của 2 gene sẽ xác định độ huyết thống của chúng.\n",
        "\n",
        "Độ giống nhau của gene thứ nhất đối với gene thứ 2 là số lượng cặp 2 cơ sở liên tiếp nhau trong gene thứ nhất đồng thời là cặp 2 cơ sở liên tiếp nhau trong gene thứ hai.\n",
        "<img src= \"https://i.imgur.com/8Bzl48g.png\" class = \"center\" width = 400/>\n",
        "\n",
        "\n",
        " \n",
        "\n",
        "Ví dụ, gene thứ nhất là ABBACAB, gene thứ 2 là BCABB thì mức độ giống nhau là 4.\n",
        "\n",
        " \n",
        "\n",
        "Cho hai gene. Hãy xác định mức độ giống nhau của gene thứ nhất với gene thứ 2.\n",
        "\n",
        "Dữ liệu: Vào từ thiết bị nhập chuẩn bao gồm 2 dòng chứa 2 xâu khác rỗng xác định gene thứ nhất và gene thứ 2, mỗi xâu chỉ chứa các ký tự chữ cái in hoa và có độ dài không quá 105.\n",
        "\n",
        "Kết quả: Đưa ra thiết bị xuất chuẩn một số nguyên – mức độ giống nhau của 2 genes.\n",
        "\n",
        "Ví dụ:\n",
        "    \n",
        "    INPUT\t    |    OUTPUT\n",
        "    ABBACAB      |     4 \t\n",
        "    BCABB\n",
        "\n"
      ]
    },
    {
      "cell_type": "markdown",
      "metadata": {
        "id": "jui8NoKwT9y9"
      },
      "source": [
        "#Analysis:\n",
        "Phân tích bài toán :\n",
        "\n",
        "\n"
      ]
    },
    {
      "cell_type": "markdown",
      "metadata": {
        "id": "u2rioZYRd1yG"
      },
      "source": [
        "#Abstraction\n",
        "- Tìm số cặp 2 kí tự liên tiếp giống nhau của chuỗi A và B\n",
        "\n"
      ]
    },
    {
      "cell_type": "markdown",
      "metadata": {
        "id": "HEu3uFbreB0a"
      },
      "source": [
        "#Pattern Recognition\n",
        "- Ý tưởng: Tìm tập 2 kí tự liên tiếp của chuỗi B. Sau đó duyệt chuỗi A và xem các \"2 kí tự liên tiếp\" của A có trong tập hợp vừa tìm hay không?"
      ]
    },
    {
      "cell_type": "markdown",
      "metadata": {
        "id": "VCw5vneceLL-"
      },
      "source": [
        "#Algorithm Design: Pseudocode\n",
        "\n",
        "\n"
      ]
    },
    {
      "cell_type": "markdown",
      "metadata": {
        "id": "d4_Tu0dRft4E"
      },
      "source": [
        "#Analysis of the function\n"
      ]
    },
    {
      "cell_type": "markdown",
      "metadata": {
        "id": "nqGiP2v5gS74"
      },
      "source": [
        "#Result\n",
        "\n",
        "<blockquote class=\"imgur-embed-pub\" lang=\"en\" data-id=\"a/rjuw02f\" data-context=\"false\" ><a href=\"//imgur.com/a/rjuw02f\"></a></blockquote><script async src=\"//s.imgur.com/min/embed.js\" charset=\"utf-8\"></script>\n"
      ]
    },
    {
      "cell_type": "markdown",
      "metadata": {
        "id": "LTETrBvSguRn"
      },
      "source": [
        "#Code\n",
        "\n"
      ]
    },
    {
      "cell_type": "code",
      "metadata": {
        "id": "qKR3OhGcg_FS",
        "colab": {
          "base_uri": "https://localhost:8080/"
        },
        "outputId": "120021e6-0bbb-469b-a931-e19a41a436a1"
      },
      "source": [
        "A = input()\n",
        "B = input()\n",
        "\n",
        "set_b = {B[i] + B[i+1] for i in range(len(B) - 1)}\n",
        "\n",
        "result = [A[i] + A[i+1] in set_b for i in range(len(A) - 1)]\n",
        "\n",
        "print(sum(result))"
      ],
      "execution_count": 3,
      "outputs": [
        {
          "output_type": "stream",
          "text": [
            "ABBACAB\n",
            "BCABB\n",
            "4\n"
          ],
          "name": "stdout"
        }
      ]
    }
  ]
}