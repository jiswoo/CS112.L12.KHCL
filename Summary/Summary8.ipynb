{
  "nbformat": 4,
  "nbformat_minor": 0,
  "metadata": {
    "colab": {
      "name": "Summary8.ipynb",
      "provenance": [],
      "collapsed_sections": [],
      "toc_visible": true
    },
    "kernelspec": {
      "name": "python3",
      "display_name": "Python 3"
    }
  },
  "cells": [
    {
      "cell_type": "markdown",
      "metadata": {
        "id": "wD76LFhosn3d"
      },
      "source": [
        "##Bài 1: Số nguyên mới\r\n",
        "\r\n",
        "\r\n"
      ]
    },
    {
      "cell_type": "code",
      "metadata": {
        "id": "QfArmaolWk59"
      },
      "source": [
        "#import time\r\n",
        "a = input()\r\n",
        "\r\n",
        "def solve(a):\r\n",
        "    int_a = int(a)\r\n",
        "    list_a = list(a)\r\n",
        "    mod = int_a%3\r\n",
        "\r\n",
        "    magic = {\r\n",
        "        2:[8,5,2],\r\n",
        "        1:[7,4,1],\r\n",
        "        3:[9,6,3]\r\n",
        "    }\r\n",
        "    check=1\r\n",
        "    change = 0\r\n",
        "    while check!=0:\r\n",
        "        #print('mod', mod)\r\n",
        "        for i in range (len(list_a)):\r\n",
        "            list_a[i] = int(list_a[i])\r\n",
        "            #print('with',list_a[i])\r\n",
        "            # if list_a[i]!=9 :\r\n",
        "            for j in magic[3-mod]:\r\n",
        "                #print('check',j)\r\n",
        "                if list_a[i]+j<10:\r\n",
        "                    #print('has changed')\r\n",
        "                    list_a[i]=list_a[i]+j\r\n",
        "                    change=1\r\n",
        "                    check=0\r\n",
        "                    break\r\n",
        "            if check ==0:\r\n",
        "                break\r\n",
        "        check=0\r\n",
        "\r\n",
        "    if change==0:\r\n",
        "        #print(\"change...\")\r\n",
        "        if mod!=0:\r\n",
        "            list_a[-1] = int(list_a[-1])-mod\r\n",
        "        else:\r\n",
        "            list_a[-1] = int(list_a[-1])-3\r\n",
        "\r\n",
        "    return ''.join([str(x) for x in list_a])\r\n",
        "print(solve(a))"
      ],
      "execution_count": null,
      "outputs": []
    },
    {
      "cell_type": "markdown",
      "metadata": {
        "id": "XuIpCZN0szZT"
      },
      "source": [
        "##Bài 2: Con đường gốm sứ"
      ]
    },
    {
      "cell_type": "code",
      "metadata": {
        "id": "PPaqkFywsioF"
      },
      "source": [
        "n = int(input().strip())\r\n",
        "a = list(map(int, input().strip().split()))\r\n",
        "\r\n",
        "H = [0] * (n+1)\r\n",
        "a = [0] + a\r\n",
        "\r\n",
        "for i in range(1,n+1):\r\n",
        "    H[i] = H[i-1] + a[i]*(a[i]+11)*(a[i]+17)\r\n",
        "    \r\n",
        "def get_H(l,r):\r\n",
        "    return H[r]-H[l-1]\r\n",
        "    \r\n",
        "ans = []\r\n",
        "\r\n",
        "def solve(x, ans):\r\n",
        "    n1 = 0\r\n",
        "    n2 = 0\r\n",
        "    s1 = -1 \r\n",
        "    s2 = -1\r\n",
        "    for i in range(1, n+1, x):\r\n",
        "        s = get_H(i,i+x-1)\r\n",
        "        if s==s1 or s1==-1:\r\n",
        "            n1+=1\r\n",
        "            s1=s\r\n",
        "        elif s==s2 or s2==-1:\r\n",
        "            n2+=1\r\n",
        "            s2=s\r\n",
        "        else: return\r\n",
        "    if n1>0 and n2>0:\r\n",
        "        ans += [(x,n1,n2)]\r\n",
        "\r\n",
        "for i in range(1,n):\r\n",
        "    if n%i==0:\r\n",
        "        solve(i, ans)\r\n",
        "        \r\n",
        "if len(ans)==0:\r\n",
        "    print(-1)\r\n",
        "else:\r\n",
        "    print(len(ans))\r\n",
        "    for x in ans:\r\n",
        "        print(*x)"
      ],
      "execution_count": null,
      "outputs": []
    },
    {
      "cell_type": "markdown",
      "metadata": {
        "id": "IJn1ifHrW-zS"
      },
      "source": [
        "# Nhóm 15 - CS112.L12.KHCL([Chi tiết tại đây](https://github.com/jiswoo/CS112.L12.KHCL/blob/master/README.md))\r\n",
        "[![Open In Colab](https://colab.research.google.com/assets/colab-badge.svg)](https://colab.research.google.com/github/jiswoo/CS112.L12.KHCL/blob/master/Summary/Summary8.ipynb)"
      ]
    },
    {
      "cell_type": "markdown",
      "metadata": {
        "id": "kToTK_4Cg_co"
      },
      "source": [
        "### Tóm tắt WEEK8\r\n",
        "\r\n",
        "* Các nội dung trong buổi học:\r\n",
        "    - Hai bài thực hành mới là ''Số nguyên mới'' và ''Con đường gốm sứ''\r\n",
        "    - Nhóm tiếp lên thuyết trình.\r\n",
        "    - Đặt câu hỏi cho các nhóm (chú ý vào những câu hỏi chưa giải đáp)\r\n",
        "* Các nội dung lí thuyết và bài tập trọng tâm của buổi học:\r\n",
        "  - **Khái niệm về phân tích thuật toán** \r\n",
        "        - Độ phức tạp thời gian, không gian\r\n",
        "        - Kích thước của input\r\n",
        "  - **Sự cần thiết của phân tích thuật toán**\r\n",
        "        - Tác dụng:\r\n",
        "            - Hiểu rõ cốt lõi\r\n",
        "            - Có thể tìm cách cải tiến\r\n",
        "        - Hiểu được ưu, nhược\r\n",
        "  - **Các phương pháp phân tích thuật toán**\r\n",
        "        - Lý thuyết:\r\n",
        "            - KN: Ước lượng thời gian chạy\r\n",
        "            - Ưu: Tổng quá độ phức tạp\r\n",
        "            - Nhược : không só sánh các thuật toán xấp xĩ bằng nhau\r\n",
        "        - Thực nghiệm:\r\n",
        "            - Thực tế\r\n",
        "            - Trực quan, dễ đánh giá, so sánh\r\n",
        "            - không thể tổng quát\r\n",
        "        - Test đặc biệt (abnormal test) \r\n",
        "\r\n",
        "* Các nội dung khác:\r\n",
        "  - Teamwork trả lời câu hỏi tuần trước và đặt câu hỏi cho các nhóm trình bày\r\n",
        "  - Hoàn thiện Slide\r\n",
        "\r\n",
        "\r\n",
        "    \r\n",
        "\r\n",
        "\r\n"
      ]
    }
  ]
}