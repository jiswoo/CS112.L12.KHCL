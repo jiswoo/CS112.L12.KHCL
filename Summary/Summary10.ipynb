{
  "nbformat": 4,
  "nbformat_minor": 0,
  "metadata": {
    "colab": {
      "name": "Summary10.ipynb",
      "provenance": [],
      "collapsed_sections": [],
      "toc_visible": true
    },
    "kernelspec": {
      "name": "python3",
      "display_name": "Python 3"
    }
  },
  "cells": [
    {
      "cell_type": "markdown",
      "metadata": {
        "id": "wD76LFhosn3d"
      },
      "source": [
        "##Bài 1: Phần thưởng\r\n",
        "\r\n",
        "\r\n"
      ]
    },
    {
      "cell_type": "code",
      "metadata": {
        "id": "QfArmaolWk59"
      },
      "source": [
        "n, k = map(int,input().split())\r\n",
        "a = list(map(int,input().split()))\r\n",
        "a = [0] + a\r\n",
        "\r\n",
        "# prefix sum\r\n",
        "for i in range(1,n + 1):\r\n",
        "\ta[i] += a[i - 1]\r\n",
        "\r\n",
        "\r\n",
        "# create list b \r\n",
        "b = [0 for _ in range(n - k + 3)]\r\n",
        "\r\n",
        "m = n - k + 1\r\n",
        "for i in range(1,n - k + 2):\r\n",
        "\tb[i] = a[i + k - 1] - a[i - 1]  \r\n",
        "\r\n",
        "# max prefix\r\n",
        "pre = [0 for _ in range(n - k + 3)]\r\n",
        "for i in range(1,n - k + 2):\r\n",
        "\tpre[i] = max(b[i],pre[i - 1])\r\n",
        "\r\n",
        "# max suffix\r\n",
        "suff = [0 for _ in range(n - k + 3)]\r\n",
        "for i in range(n - k  + 1,0,-1):\r\n",
        "\tsuff[i] = max(b[i],suff[i + 1])\r\n",
        "\r\n",
        "ans = 10**15\r\n",
        "for i in range(1,m + 1):\r\n",
        "\ttmp = 0\r\n",
        "\tif i >= k: tmp = max(tmp,pre[i - k])\r\n",
        "\tif i + k <= m + 1: tmp = max(tmp,suff[i + k])\r\n",
        "\tans = min(ans,tmp)\r\n",
        "\r\n",
        "print(ans)"
      ],
      "execution_count": null,
      "outputs": []
    },
    {
      "cell_type": "markdown",
      "metadata": {
        "id": "XuIpCZN0szZT"
      },
      "source": [
        "##Bài 2: Đèn led"
      ]
    },
    {
      "cell_type": "code",
      "metadata": {
        "id": "PPaqkFywsioF"
      },
      "source": [
        "n = int(input())\r\n",
        "\r\n",
        "max_num = n // 3\r\n",
        "\r\n",
        "remainder = n % 3\r\n",
        "\r\n",
        "if(remainder == 0):\r\n",
        "    print(max_num * 7)\r\n",
        "elif(remainder == 1):\r\n",
        "    print((max_num - 1) * 7 + 4)\r\n",
        "elif(remainder == 2):\r\n",
        "    print(max_num * 7 + 1)"
      ],
      "execution_count": null,
      "outputs": []
    },
    {
      "cell_type": "markdown",
      "metadata": {
        "id": "IJn1ifHrW-zS"
      },
      "source": [
        "# Nhóm 15 - CS112.L12.KHCL([Chi tiết tại đây](https://github.com/jiswoo/CS112.L12.KHCL/blob/master/README.md))\r\n",
        "[![Open In Colab](https://colab.research.google.com/assets/colab-badge.svg)](https://colab.research.google.com/github/jiswoo/CS112.L12.KHCL/blob/master/Summary/Summary8.ipynb)"
      ]
    },
    {
      "cell_type": "markdown",
      "metadata": {
        "id": "kToTK_4Cg_co"
      },
      "source": [
        "### Tóm tắt WEEK10\r\n",
        "\r\n",
        "* Các nội dung trong buổi học:\r\n",
        "    - Hai bài thực hành mới là ''Đèn Led'' và ''Phần thưởng''\r\n",
        "    - Nhóm tiếp lên thuyết trình.\r\n",
        "    - Đặt câu hỏi cho các nhóm (chú ý vào những câu hỏi chưa giải đáp)\r\n",
        "* Các nội dung lí thuyết và bài tập trọng tâm của buổi học:\r\n",
        "  - **Khái niệm về phân tích thuật toán** \r\n",
        "        - Độ phức tạp thời gian, không gian\r\n",
        "        - Kích thước của input\r\n",
        "  - **Sự cần thiết của phân tích thuật toán**\r\n",
        "        - Tác dụng:\r\n",
        "            - Hiểu rõ cốt lõi\r\n",
        "            - Có thể tìm cách cải tiến\r\n",
        "        - Hiểu được ưu, nhược\r\n",
        "  - **Các phương pháp phân tích thuật toán**\r\n",
        "        - Lý thuyết:\r\n",
        "            - KN: Ước lượng thời gian chạy\r\n",
        "            - Ưu: Tổng quá độ phức tạp\r\n",
        "            - Nhược : không só sánh các thuật toán xấp xĩ bằng nhau\r\n",
        "        - Thực nghiệm:\r\n",
        "            - Thực tế\r\n",
        "            - Trực quan, dễ đánh giá, so sánh\r\n",
        "            - không thể tổng quát\r\n",
        "        - Test đặc biệt (abnormal test) \r\n",
        "\r\n",
        "* Các nội dung khác:\r\n",
        "  - Teamwork đặt câu hỏi cho các nhóm trình bày\r\n",
        "  - Hoàn thiện Slide.\r\n",
        "\r\n",
        "\r\n",
        "    \r\n",
        "\r\n",
        "\r\n"
      ]
    }
  ]
}