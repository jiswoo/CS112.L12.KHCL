{
  "nbformat": 4,
  "nbformat_minor": 0,
  "metadata": {
    "colab": {
      "name": "Summary5.ipynb",
      "provenance": [],
      "collapsed_sections": [],
      "toc_visible": true
    },
    "kernelspec": {
      "name": "python3",
      "display_name": "Python 3"
    }
  },
  "cells": [
    {
      "cell_type": "code",
      "metadata": {
        "id": "QfArmaolWk59"
      },
      "source": [
        "from collections import Counter\r\n",
        "n = input().strip()\r\n",
        "count_number = Counter(n)\r\n",
        "\r\n",
        "mod_number = []\r\n",
        "\r\n",
        "mod_number.append([])\r\n",
        "mod_number.append(['1','4','7'])\r\n",
        "mod_number.append(['2','5','8'])\r\n",
        "mod_number = [[x for x in d if x in count_number] for d in mod_number]\r\n",
        "\r\n",
        "sum_digit = sum(int(digit)*count_number[digit] for digit in count_number)\r\n",
        "\r\n",
        "mod = sum_digit%3\r\n",
        "\r\n",
        "\r\n",
        "if mod:\r\n",
        "   \r\n",
        "    count_digit_same_mode = sum(int(count_number[number]) for number in mod_number[mod])\r\n",
        "    \r\n",
        "    number_digit_delete = 1\r\n",
        "    if not count_digit_same_mode:\r\n",
        "        mod = 3 - mod   \r\n",
        "        number_digit_delete = 2\r\n",
        "\r\n",
        "    for _ in mod_number[mod]:\r\n",
        "        \r\n",
        "        __ = min(number_digit_delete, count_number[_])\r\n",
        "        number_digit_delete -= __\r\n",
        "        count_number[_] -= __\r\n",
        "\r\n",
        "for _ in sorted(count_number.keys(), reverse=True):\r\n",
        "    print(_*count_number[_], end=\"\")\r\n"
      ],
      "execution_count": null,
      "outputs": []
    },
    {
      "cell_type": "markdown",
      "metadata": {
        "id": "IJn1ifHrW-zS"
      },
      "source": [
        "# Nhóm 15 - CS112.L12.KHCL([Chi tiết tại đây](https://github.com/jiswoo/CS112.L12.KHCL/blob/master/README.md))\r\n",
        "[![Open In Colab](https://colab.research.google.com/assets/colab-badge.svg)](https://colab.research.google.com/github/jiswoo/CS112.L12.KHCL/blob/master/Summary/Summary5.ipynb)"
      ]
    },
    {
      "cell_type": "markdown",
      "metadata": {
        "id": "kToTK_4Cg_co"
      },
      "source": [
        "### Tóm tắt WEEK5\r\n",
        "\r\n",
        "* Các nội dung trong buổi học:\r\n",
        "    - Hai bài thực hành mới là ''Khóa số'' và ''Cyclick Isomorphism''\r\n",
        "    - Nhóm tiếp theo lên thuyết trình về bài \"\"Phân tích thuật toán\"\"\r\n",
        "    - Đặt câu hỏi cho nhóm (chú ý đến cách đặt câu hỏi)\r\n",
        "* Các nội dung lí thuyết và bài tập trọng tâm của buổi học:\r\n",
        "   - Nôi dung thuyết trình : \"*Phân tích thuật toán - Analysis of Algorithms*\"\r\n",
        "  - **Khái niệm về phân tích thuật toán** \r\n",
        "        - Độ phức tạp thời gian, không gian\r\n",
        "        - Kích thước của input\r\n",
        "  - **Sự cần thiết của phân tích thuật toán**\r\n",
        "        - Tác dụng:\r\n",
        "            - Hiểu rõ cốt lõi\r\n",
        "            - Có thể tìm cách cải tiến\r\n",
        "        - Hiểu được ưu, nhược\r\n",
        "  - **Các phương pháp phân tích thuật toán**\r\n",
        "        - Lý thuyết:\r\n",
        "            - KN: Ước lượng thời gian chạy\r\n",
        "            - Ưu: Tổng quá độ phức tạp\r\n",
        "            - Nhược : không só sánh các thuật toán xấp xĩ bằng nhau\r\n",
        "        - Thực nghiệm:\r\n",
        "            - Thực tế\r\n",
        "            - Trực quan, dễ đánh giá, so sánh\r\n",
        "            - không thể tổng quát\r\n",
        "        - Test đặc biệt (abnormal test)\r\n",
        "  \r\n",
        "  - Asymptotic Notation Big-O : cạnh trên Big-Omega: cạnh dưới Big-Theta: gần đúng tiệm cạnh độ phức tạp thuật toán\r\n",
        "* Các nội dung khác:\r\n",
        "  - Teamwork tìm câu hỏi cho nội dung thuyết trình của nhóm 2\r\n",
        "  - Chia công việc cho các thành viên về phần bài thuyết trình về giải thuật Greedy của nhóm.\r\n",
        "\r\n",
        "\r\n",
        "    \r\n",
        "\r\n",
        "\r\n"
      ]
    }
  ]
}