{
  "nbformat": 4,
  "nbformat_minor": 0,
  "metadata": {
    "colab": {
      "name": "Summary7.ipynb",
      "provenance": [],
      "collapsed_sections": [],
      "toc_visible": true
    },
    "kernelspec": {
      "name": "python3",
      "display_name": "Python 3"
    }
  },
  "cells": [
    {
      "cell_type": "markdown",
      "metadata": {
        "id": "wD76LFhosn3d"
      },
      "source": [
        "##Bài 1: Phân Số\r\n",
        "\r\n",
        "\r\n"
      ]
    },
    {
      "cell_type": "code",
      "metadata": {
        "id": "QfArmaolWk59"
      },
      "source": [
        "import math\r\n",
        "\r\n",
        "a = int(input())\r\n",
        "b = int(input())\r\n",
        "c = int(input())\r\n",
        "d = int(input())\r\n",
        "\r\n",
        "i = 0\r\n",
        "while True:\r\n",
        "  if (a/b == c/d):\r\n",
        "    print(i)\r\n",
        "    break\r\n",
        "  elif (a/b > c/d):\r\n",
        "    print(0)\r\n",
        "    break\r\n",
        "  else:\r\n",
        "    a += 1\r\n",
        "    b += 1\r\n",
        "    tmp = math.gcd(a, b)\r\n",
        "    a = a // tmp\r\n",
        "    b = b // tmp\r\n",
        "    i += 1"
      ],
      "execution_count": null,
      "outputs": []
    },
    {
      "cell_type": "markdown",
      "metadata": {
        "id": "XuIpCZN0szZT"
      },
      "source": [
        "##Bài 2: Xâu con tương đương"
      ]
    },
    {
      "cell_type": "code",
      "metadata": {
        "id": "PPaqkFywsioF"
      },
      "source": [
        "from sys import stdin,stdout\r\n",
        "s = stdin.readline()\r\n",
        "s = [0] + list(s.strip())\r\n",
        "q = int(stdin.readline())\r\n",
        "\r\n",
        "for i in range(1, len(s)):\r\n",
        "    s[i] =  s[i-1] + (1<<ord(s[i]))\r\n",
        "\r\n",
        "for _ in range(q):\r\n",
        "    a,b,c,d = map(int, stdin.readline().strip().split(' '))\r\n",
        "    if s[b] - s[a-1] == s[d] - s[c-1]:\r\n",
        "        print('YES')\r\n",
        "    else:\r\n",
        "        print('NO')"
      ],
      "execution_count": null,
      "outputs": []
    },
    {
      "cell_type": "markdown",
      "metadata": {
        "id": "IJn1ifHrW-zS"
      },
      "source": [
        "# Nhóm 15 - CS112.L12.KHCL([Chi tiết tại đây](https://github.com/jiswoo/CS112.L12.KHCL/blob/master/README.md))\r\n",
        "[![Open In Colab](https://colab.research.google.com/assets/colab-badge.svg)](https://colab.research.google.com/github/jiswoo/CS112.L12.KHCL/blob/master/Summary/Summary7.ipynb)"
      ]
    },
    {
      "cell_type": "markdown",
      "metadata": {
        "id": "kToTK_4Cg_co"
      },
      "source": [
        "### Tóm tắt WEEK7\r\n",
        "\r\n",
        "* Các nội dung trong buổi học:\r\n",
        "    - Hai bài thực hành mới là ''Phân Số'' và ''Xâu con tương đương''\r\n",
        "    - Nhóm của mình(Nhóm 15) lên thuyết trình về bài \"\"Giới thiệu phương pháp thiết kế thuật toán: Greedy approach\"\"\r\n",
        "    - Tiếp thu câu hỏi và giải đáp cho các nhóm (chú ý Lưu lại những câu hỏi chưa giải đáp được và làm bù trong tuần sau)\r\n",
        "* Các nội dung lí thuyết và bài tập trọng tâm của buổi học:\r\n",
        "   - Nôi dung thuyết trình : \"*Giới thiệu phương pháp thiết kế thuật toán: Greedy approach*\"\r\n",
        "  - **Khái niệm về phân tích thuật toán** \r\n",
        "        - Độ phức tạp thời gian, không gian\r\n",
        "        - Kích thước của input\r\n",
        "  - **Sự cần thiết của phân tích thuật toán**\r\n",
        "        - Tác dụng:\r\n",
        "            - Hiểu rõ cốt lõi\r\n",
        "            - Có thể tìm cách cải tiến\r\n",
        "        - Hiểu được ưu, nhược\r\n",
        "  - **Các phương pháp phân tích thuật toán**\r\n",
        "        - Lý thuyết:\r\n",
        "            - KN: Ước lượng thời gian chạy\r\n",
        "            - Ưu: Tổng quá độ phức tạp\r\n",
        "            - Nhược : không só sánh các thuật toán xấp xĩ bằng nhau\r\n",
        "        - Thực nghiệm:\r\n",
        "            - Thực tế\r\n",
        "            - Trực quan, dễ đánh giá, so sánh\r\n",
        "            - không thể tổng quát\r\n",
        "        - Test đặc biệt (abnormal test)\r\n",
        "      \r\n",
        "\r\n",
        "* Các nội dung khác:\r\n",
        "  - Teamwork làm công việc thuyết trình trong buổi học này và sửa bài tập ở buổi học tới\r\n",
        "  - Chia công việc cho các thành viên về phần tổng kết buổi thuyết trình.\r\n",
        "\r\n",
        "\r\n",
        "    \r\n",
        "\r\n",
        "\r\n"
      ]
    }
  ]
}