{
  "nbformat": 4,
  "nbformat_minor": 0,
  "metadata": {
    "colab": {
      "name": "Summary4.ipynb",
      "provenance": [],
      "collapsed_sections": [],
      "toc_visible": true
    },
    "kernelspec": {
      "name": "python3",
      "display_name": "Python 3"
    }
  },
  "cells": [
    {
      "cell_type": "code",
      "metadata": {
        "id": "QfArmaolWk59"
      },
      "source": [
        "a, k, b, m, n= map(int,input().split())\r\n",
        "def binary_search():\r\n",
        "    first=0\r\n",
        "    last=int(10**18)\r\n",
        "    result = 0\r\n",
        "    while first <= last:\r\n",
        "        mid= (first + last)//2\r\n",
        "        if a * (mid-mid//k) + b * (mid-mid//m) >= n:\r\n",
        "            last=mid-1\r\n",
        "            result=mid\r\n",
        "        else:\r\n",
        "            first=mid+1\r\n",
        "    return result\r\n",
        "print(binary_search())"
      ],
      "execution_count": null,
      "outputs": []
    },
    {
      "cell_type": "markdown",
      "metadata": {
        "id": "IJn1ifHrW-zS"
      },
      "source": [
        "# Nhóm 15 - CS112.L12.KHCL([Chi tiết tại đây](https://github.com/jiswoo/CS112.L12.KHCL/blob/master/README.md))\r\n",
        "[![Open In Colab](https://colab.research.google.com/assets/colab-badge.svg)](https://colab.research.google.com/github/jiswoo/CS112.L12.KHCL/blob/master/Summary/Summary4.ipynb)"
      ]
    },
    {
      "cell_type": "markdown",
      "metadata": {
        "id": "kToTK_4Cg_co"
      },
      "source": [
        "### Tóm tắt WEEK4\r\n",
        "\r\n",
        "* Các nội dung trong buổi học:\r\n",
        "    - Hai bài thực hành mới là ''đổi mới'' và ''tái cấu trúc''\r\n",
        "    - Nhóm đầu tiên lên thuyết trình về bài \"Kiểm tra tính đún đắn & hiệu năng của chương trình bằng bộ test\"\r\n",
        "    - Đặt câu hỏi cho nhóm (chú ý đến cách đặt câu hỏi)\r\n",
        "*Câu hỏi quan trọng: các thao khảo tài liệu tham khảo cho hợp lý, phần nào cần cho vào nội dung thuyết trình, phần nào không (vì sao).\r\n",
        "* Các nội dung lí thuyết và bài tập trọng tâm của buổi học:\r\n",
        "   - Nôi dung thuyết trình : \"*Kiểm tra tính đúng đắn và hiệu năng của chương trình bằng bộ test*\"\r\n",
        "  - **Bộ test** \r\n",
        "        - input - output\r\n",
        "        - Trình chấm (checker)\r\n",
        "  - **Cấu trúc trình chấm**\r\n",
        "  - **Yêu cầu bộ test**\r\n",
        "        - Test thường (normal test)\r\n",
        "        - Test biên (boundary test)\r\n",
        "        - Test đặc biệt (abnormal test)\r\n",
        "  \r\n",
        "  - Bài **đổi mới** có thể quy thành công thức : theo file ipynb trên github/*jiswoo*\r\n",
        "* Các nội dung khác:\r\n",
        "  - teamwork tìm câu hỏi cho nội dung thuyết trình của nhóm 1\r\n",
        "  - chia công việc cho các thành viên về phần bài thuyết trình về giải thuật Greedy của nhóm.\r\n",
        "\r\n",
        "\r\n",
        "    \r\n",
        "\r\n",
        "\r\n"
      ]
    }
  ]
}