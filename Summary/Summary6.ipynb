{
  "nbformat": 4,
  "nbformat_minor": 0,
  "metadata": {
    "colab": {
      "name": "Summary6.ipynb",
      "provenance": [],
      "collapsed_sections": [],
      "toc_visible": true
    },
    "kernelspec": {
      "name": "python3",
      "display_name": "Python 3"
    }
  },
  "cells": [
    {
      "cell_type": "markdown",
      "metadata": {
        "id": "wD76LFhosn3d"
      },
      "source": [
        "##Bài 1: Mức độ giống nhau"
      ]
    },
    {
      "cell_type": "code",
      "metadata": {
        "id": "QfArmaolWk59"
      },
      "source": [
        "A = input()\r\n",
        "B = input()\r\n",
        "\r\n",
        "set_b = {B[i] + B[i+1] for i in range(len(B) - 1)}\r\n",
        "\r\n",
        "result = [A[i] + A[i+1] in set_b for i in range(len(A) - 1)]\r\n",
        "\r\n",
        "print(sum(result))"
      ],
      "execution_count": null,
      "outputs": []
    },
    {
      "cell_type": "markdown",
      "metadata": {
        "id": "XuIpCZN0szZT"
      },
      "source": [
        "##Bài 2: Địa Lan"
      ]
    },
    {
      "cell_type": "code",
      "metadata": {
        "id": "PPaqkFywsioF"
      },
      "source": [
        "NUM_BIT = 12\r\n",
        "\r\n",
        "def bin2dec(bit, k):\r\n",
        "    \"\"\"\r\n",
        "    Hàm chuyển từ số nhị phân (thực chất là một mảng các bit)\r\n",
        "    sang số nguyên.\r\n",
        "    \"\"\"\r\n",
        "    dec = 0 \r\n",
        "  \r\n",
        "    for i in range(NUM_BIT): \r\n",
        "        if (bit[i] == k): \r\n",
        "            dec += (1 << i)\r\n",
        "  \r\n",
        "    return dec \r\n",
        "  \r\n",
        "    \r\n",
        "def exist_k(arr, n, k): \r\n",
        "    \"\"\"\r\n",
        "    Hàm kiểm tra xem có tồn tại \r\n",
        "    k phần tử thỏa điều kiện hay không\r\n",
        "    \"\"\"\r\n",
        "    # mảng bit dùng để lưu kết quả phép AND của cửa sổ\r\n",
        "    # kích thước k\r\n",
        "    bit = [0] * NUM_BIT \r\n",
        "    for i in range(k): \r\n",
        "        for j in range(NUM_BIT): \r\n",
        "            if ((arr[i] & (1 << j)) > 0): \r\n",
        "                bit[j] += 1\r\n",
        "\r\n",
        "    # nếu cửa sổ đầu tiên thỏa thì trả về True ngay lập tức\r\n",
        "    if bin2dec(bit, k) == 0:\r\n",
        "        return True\r\n",
        "    \r\n",
        "    # bắt đầu trượt cửa sổ qua phải và tính kết quả phép AND\r\n",
        "    # của cửa sổ đó\r\n",
        "    for i in range(k, n): \r\n",
        "        \r\n",
        "        # lấy phần tử ngoài cùng bên trái ra khỏi cửa sổ\r\n",
        "        for j in range(NUM_BIT): \r\n",
        "            if ((arr[i - k] & (1 << j)) > 0): \r\n",
        "                bit[j] -=1;\r\n",
        "        # thêm phần tử mới vào vị trí ngoài cùng bên phải cửa sổ\r\n",
        "        for j in range(NUM_BIT): \r\n",
        "            if ((arr[i] & (1 << j)) > 0): \r\n",
        "                bit[j] += 1 \r\n",
        "  \r\n",
        "        # nếu cửa sổ thỏa điều kiện thì trả về True\r\n",
        "        if bin2dec(bit, k) == 0:\r\n",
        "            return True\r\n",
        "  \r\n",
        "    return False\r\n",
        "  \r\n",
        "  \r\n",
        "if __name__ == '__main__': \r\n",
        "    n, k = [int(x) for x in input().split()]\r\n",
        "    arr = [int(x) for x in input().split()]\r\n",
        "\r\n",
        "    if exist_k(arr, n, k):\r\n",
        "        print('YES')\r\n",
        "    else:\r\n",
        "        print('NO')"
      ],
      "execution_count": null,
      "outputs": []
    },
    {
      "cell_type": "markdown",
      "metadata": {
        "id": "IJn1ifHrW-zS"
      },
      "source": [
        "# Nhóm 15 - CS112.L12.KHCL([Chi tiết tại đây](https://github.com/jiswoo/CS112.L12.KHCL/blob/master/README.md))\r\n",
        "[![Open In Colab](https://colab.research.google.com/assets/colab-badge.svg)](https://colab.research.google.com/github/jiswoo/CS112.L12.KHCL/blob/master/Summary/Summary6.ipynb)"
      ]
    },
    {
      "cell_type": "markdown",
      "metadata": {
        "id": "kToTK_4Cg_co"
      },
      "source": [
        "### Tóm tắt WEEK6\r\n",
        "\r\n",
        "* Các nội dung trong buổi học:\r\n",
        "    - Hai bài thực hành mới là ''Mức độ giống nhau'' và ''Địa lan''\r\n",
        "    - Nhóm tiếp theo lên thuyết trình về bài \"\"Giới thiệu phương pháp thiết kế thuật toán: Divide and Conquer\"\"\r\n",
        "    - Đặt câu hỏi cho nhóm (chú ý đến cách đặt câu hỏi)\r\n",
        "* Các nội dung lí thuyết và bài tập trọng tâm của buổi học:\r\n",
        "   - Nôi dung thuyết trình : \"*Giới thiệu phương pháp thiết kế thuật toán: Divide and Conquer*\"\r\n",
        "  - **Khái niệm về phân tích thuật toán** \r\n",
        "        - Độ phức tạp thời gian, không gian\r\n",
        "        - Kích thước của input\r\n",
        "  - **Sự cần thiết của phân tích thuật toán**\r\n",
        "        - Tác dụng:\r\n",
        "            - Hiểu rõ cốt lõi\r\n",
        "            - Có thể tìm cách cải tiến\r\n",
        "        - Hiểu được ưu, nhược\r\n",
        "  - **Các phương pháp phân tích thuật toán**\r\n",
        "        - Lý thuyết:\r\n",
        "            - KN: Ước lượng thời gian chạy\r\n",
        "            - Ưu: Tổng quá độ phức tạp\r\n",
        "            - Nhược : không só sánh các thuật toán xấp xĩ bằng nhau\r\n",
        "        - Thực nghiệm:\r\n",
        "            - Thực tế\r\n",
        "            - Trực quan, dễ đánh giá, so sánh\r\n",
        "            - không thể tổng quát\r\n",
        "        - Test đặc biệt (abnormal test)\r\n",
        "      \r\n",
        "\r\n",
        "* Các nội dung khác:\r\n",
        "  - Teamwork tìm câu hỏi cho nội dung thuyết trình của nhóm 5\r\n",
        "  - Chia công việc cho các thành viên về phần bài thuyết trình về giải thuật Greedy của nhóm.\r\n",
        "\r\n",
        "\r\n",
        "    \r\n",
        "\r\n",
        "\r\n"
      ]
    }
  ]
}