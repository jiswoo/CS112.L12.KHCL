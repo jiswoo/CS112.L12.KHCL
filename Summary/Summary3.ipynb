{
  "nbformat": 4,
  "nbformat_minor": 0,
  "metadata": {
    "colab": {
      "name": "Summary3.ipynb",
      "provenance": [],
      "collapsed_sections": [],
      "toc_visible": true
    },
    "kernelspec": {
      "name": "python3",
      "display_name": "Python 3"
    }
  },
  "cells": [
    {
      "cell_type": "code",
      "metadata": {
        "id": "QfArmaolWk59"
      },
      "source": [
        "def hindex(n):\r\n",
        "    n.sort()        \r\n",
        "    for i in range(len(n)):\r\n",
        "        temp = len(n) - i\r\n",
        "        if temp <= n[i]:\r\n",
        "            return temp\r\n",
        "    return 0\r\n",
        "\r\n",
        "m =input()\r\n",
        "n = [int(x) for x in input().split()]\r\n",
        "print(hindex(n))"
      ],
      "execution_count": null,
      "outputs": []
    },
    {
      "cell_type": "markdown",
      "metadata": {
        "id": "IJn1ifHrW-zS"
      },
      "source": [
        "# Nhóm 15 - CS112.L12.KHCL([Chi tiết tại đây](https://github.com/jiswoo/CS112.L12.KHCL/blob/master/README.md))\r\n",
        "[![Open In Colab](https://colab.research.google.com/assets/colab-badge.svg)](https://colab.research.google.com/github/jiswoo/CS112.L12.KHCL/blob/master/Summary/Summary3.ipynb)"
      ]
    },
    {
      "cell_type": "markdown",
      "metadata": {
        "id": "kToTK_4Cg_co"
      },
      "source": [
        "### Tóm tắt WEEK3\r\n",
        "\r\n",
        "* Các nội dung trong buổi học:\r\n",
        "    - Thông báo lịch seminar theo lịch đã đăng ký. Thầy nói về cách chuẩn bị cho việc thuyết trình, cần chuẩn bị như thế nào cho từng phần.\r\n",
        "    - Đưa ra 2 bài tập thực hành mới là H_index và Water_supply\r\n",
        "    - Mời một số nhóm tiêu biểu đã giải quyết được bài học trước lên trình bày cho tất cả bạn hiểu (Done).\r\n",
        "    - Đưa ra hướng giải quyết bài Đếm sao cho ca lớp.\r\n",
        "* Các nội dung lí thuyết và bài tập trọng tâm của buổi học:\r\n",
        "    - H_index (đã xong)\r\n",
        "    - Water_supply (tìm hiểu thuật toán Prufer)\r\n",
        "* Các nội dung khác:\r\n",
        "   \r\n",
        "    - Thảo luận, phân chia công việc cho nội dung đã chọn là Completed search branch and bound algorithm\r\n",
        "\r\n"
      ]
    }
  ]
}