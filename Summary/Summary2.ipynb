{
  "nbformat": 4,
  "nbformat_minor": 0,
  "metadata": {
    "colab": {
      "name": "Summary2.ipynb",
      "provenance": [],
      "toc_visible": true
    },
    "kernelspec": {
      "name": "python3",
      "display_name": "Python 3"
    }
  },
  "cells": [
    {
      "cell_type": "code",
      "metadata": {
        "id": "QfArmaolWk59"
      },
      "source": [
        "def solve():\r\n",
        "      # initializing\r\n",
        "  n      = 0\r\n",
        "  arr    = []\r\n",
        "  q      = 0\r\n",
        "  profit = -1e9\r\n",
        "  p      = 0\r\n",
        "  start  = 0\r\n",
        "\r\n",
        "\r\n",
        "  n = int(input())\r\n",
        "  arr = [int(x) for x in input().split()]\r\n",
        "\r\n",
        "  \r\n",
        "  if n == 1:\r\n",
        "    print(f'{1} {1} {arr[0]}')\r\n",
        "    return\r\n",
        "\r\n",
        "  \r\n",
        "  for i in range(1, n):\r\n",
        "    if arr[i-1] + arr[i] >= arr[i]:\r\n",
        "      arr[i] = arr[i-1] + arr[i]\r\n",
        "    else:\r\n",
        "      start = i\r\n",
        "\r\n",
        "    if arr[i] > profit:\r\n",
        "      profit = arr[i]\r\n",
        "      p = start\r\n",
        "      q = i\r\n",
        "\r\n",
        "  print(f'{p+1} {q+1} {profit}')\r\n",
        "\r\n",
        "solve()"
      ],
      "execution_count": null,
      "outputs": []
    },
    {
      "cell_type": "markdown",
      "metadata": {
        "id": "IJn1ifHrW-zS"
      },
      "source": [
        "# Nhóm 15 - CS112.L12.KHCL([Chi tiết tại đây](https://github.com/jiswoo/CS112.L12.KHCL/blob/master/README.md))\r\n",
        "[![Open In Colab](https://colab.research.google.com/assets/colab-badge.svg)](https://colab.research.google.com/github/jiswoo/CS112.L12.KHCL/blob/master/Summary/Summary2.ipynb)"
      ]
    },
    {
      "cell_type": "markdown",
      "metadata": {
        "id": "kToTK_4Cg_co"
      },
      "source": [
        "### Tóm tắt WEEK2\r\n",
        "\r\n",
        "* Các nội dung trong buổi học:\r\n",
        "    - Bàn luận, suy nghĩ, đề ra ý tưởng để giải quyết 2 bài tập là Tảo Biển và Đếm sao.\r\n",
        "    - Phân nhóm thuyết trình nội dụng bài học cho các buổi tiếp theo\r\n",
        "    - Thầy nhận xét bài làm tuần 1 của các nhóm và sửa bài tập dựa trên những sai sót của các nhóm\r\n",
        "* Các nội dung lí thuyết và bài tập trọng tâm của buổi học:\r\n",
        "    - Tảo biển (Ipynb + Wecode)\r\n",
        "    - Đếm sao (Chỉ yêu cầu làm bài tảo biển nhưng nếu làm được bài đếm sao thì càng tốt)\r\n",
        "* Các nội dung khác:\r\n",
        "    - Đã giải quyết được bài tảo biển\r\n",
        "Thảo luận\r\n",
        "    - phân chia công việc cho nội dung đã chọn là Completed search branch and bound algorithm\r\n",
        "\r\n",
        "\r\n"
      ]
    }
  ]
}