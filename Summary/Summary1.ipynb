{
  "nbformat": 4,
  "nbformat_minor": 0,
  "metadata": {
    "colab": {
      "name": "Summary1.ipynb",
      "provenance": [],
      "toc_visible": true
    },
    "kernelspec": {
      "name": "python3",
      "display_name": "Python 3"
    }
  },
  "cells": [
    {
      "cell_type": "code",
      "metadata": {
        "id": "QfArmaolWk59"
      },
      "source": [
        ""
      ],
      "execution_count": null,
      "outputs": []
    },
    {
      "cell_type": "markdown",
      "metadata": {
        "id": "IJn1ifHrW-zS"
      },
      "source": [
        "# Nhóm 15 - CS112.L12.KHCL([Chi tiết tại đây](https://github.com/jiswoo/CS112.L12.KHCL/blob/master/README.md))\r\n",
        "[![Open In Colab](https://colab.research.google.com/assets/colab-badge.svg)](https://colab.research.google.com/github/jiswoo/CS112.L12.KHCL/blob/master/Summary/Summary1.ipynb)"
      ]
    },
    {
      "cell_type": "markdown",
      "metadata": {
        "id": "kToTK_4Cg_co"
      },
      "source": [
        "### Tóm tắt WEEK1\r\n",
        "\r\n",
        "* Các nội dung trong buổi học:\r\n",
        "    - Thảo luận và giải bài BOT\r\n",
        "    - Giới thiệu Computational Thinking\r\n",
        "    - Cập nhật tự giới thiệu bản thân\r\n",
        "    - Thực hiện chia nhóm và ngồi theo nhóm\r\n",
        "* Các nội dung lí thuyết và bài tập trọng tâm của buổi học:\r\n",
        "    - Computational Thinking\r\n",
        "    - BOT (Ipynb + Wecode)\r\n",
        "    - Tạo repo Github\r\n",
        "* Các nội dung khác:\r\n",
        "    - Time management\r\n"
      ]
    }
  ]
}