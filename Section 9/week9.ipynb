{
  "nbformat": 4,
  "nbformat_minor": 0,
  "metadata": {
    "colab": {
      "name": "week9.ipynb",
      "provenance": [],
      "collapsed_sections": [],
      "toc_visible": true
    },
    "kernelspec": {
      "name": "python3",
      "display_name": "Python 3"
    }
  },
  "cells": [
    {
      "cell_type": "markdown",
      "metadata": {
        "id": "AtB_ydNzPe7J"
      },
      "source": [
        "[![Open In Colab](https://colab.research.google.com/assets/colab-badge.svg)](https://colab.research.google.com/github/jiswoo/CS112.L12.KHCL/blob/master/Section%209/week9.ipynb)\n",
        "## <strong>Bắt đầu</strong>\n",
        "\n",
        "Nhóm 15 - SE112.L12.KHCL [Chi tiết nhóm 15](https://github.com/jiswoo/CS112.L12.KHCL/blob/master/README.md)\n",
        "- Phan Khắc Cường - 18520548\n",
        "- Nguyễn Anh Khoa - 18520922\n",
        "\n",
        "  ![](https://i.postimg.cc/k445hYdx/logo-uit.png)"
      ]
    },
    {
      "cell_type": "markdown",
      "metadata": {
        "id": "hIcuGLWqqqNG"
      },
      "source": [
        "#Bài toán 2: **Phần thưởng** \r\n",
        "Harry và Hermione thắng cuộc trong một trò chơi truyền hình và bây giờ là giai đoạn trao thưởng. Quy tắc trao thưởng là như sau: có n phần thưởng xếp thành một hàng dài, đánh số từ 1 đến n. Tùy thuộc vào số điểm đã đạt được của cặp chơi, người dẫn chương trình sẽ nói một số k (1 ≤ k ≤ n/3). Một người chơi sẽ chọn cho mình k phần thưởng xếp liên tiếp nhau, người thứ hai cũng sẽ chọn cho mình k phần thưởng xếp liên tiếp nhau trong số còn lại. Hermione là nữ nên được ưu tiên chọn trước.\r\n",
        "\r\n",
        "Trò chơi đã kết thúc. Bây giờ không cần phải đồng tâm hiệp lực. Hermione vẫn còn rất giận Harry về một câu nói vô tâm mà chắc bây giờ Harry cũng không nhớ là mình nói cái gì và khi nào. Hermione hiểu rất rõ giá trị mỗi phần thưởng đối với Harry, cụ thể là phần thưởng thứ i sẽ có giá trị ai, i= 1 ÷ n và quyết định cách chọn của mình sao cho tổng giá trị phần thưởng mà Harry có thể đạt được càng nhỏ càng tốt. Về tổng giá trị phần thưởng của mình, Hermione không mảy may quan tâm!\r\n",
        "\r\n",
        "Hãy xác định x – tổng nhỏ nhất giá trị phần thưởng mà Hermione có thể chọn để Harry không có cách chọn phần thưởng với tổng giá trị lớn hơn x.\r\n",
        "\r\n",
        "Dữ liệu: Vào từ thiết bị nhập chuẩn:\r\n",
        "\r\n",
        "Dòng đầu tiên chứa 2 số nguyên n và k (3 ≤ n ≤ 105, 1 ≤ k ≤ n/3),\r\n",
        "Dòng thứ 2 chứa n số nguyên a1, a2, . . ., an (1 ≤ ai ≤ 109, i = 1 ÷ n).\r\n",
        "Kết quả: Đưa ra thiết bị xuất chuẩn số nguyên x.\r\n",
        "\r\n",
        "Ví dụ:\r\n",
        "![3.PNG](data:image/png;base64,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)"
      ]
    },
    {
      "cell_type": "markdown",
      "metadata": {
        "id": "1Md3uzbARqBP"
      },
      "source": [
        "#Bài toán 2: **Đèn Led** \n",
        "ĐÈN LED\n",
        "Alice vừa hoàn thành một hợp đồng lắp bảng hiển thị số bằng đèn LED. Mỗi chữ số được hiển thị trong một khung chữ nhật với 7 ống đèn LED. Bằng cách bật các ống đèn LED thích hợp ta có thể hiển thị chữ số bất kỳ. Số đèn sáng càng nhiều thì việc hiển thị chữ số đó càng tốn năng lượng. Ví dụ, hiển thị chữ số 9 sẽ tốn năng lượng hơn hiển thị chữ số 7.\n",
        "\n",
        "\n",
        "\n",
        "Sau khi bàn giao sản phẩm trong tay Alice còn thừa lại một số khá nhiều các khung hiển thị số và một cục pin nguồn. Dung lượng pin cho phép bật sáng n ống đèn LED. Alice muốn dùng pin bật đúng n ống đèn để hiển thị một số và số hiển thị được phải có tổng chữ số là lớn nhất.\n",
        "\n",
        "Hãy xác định tổng lớn nhất của các chữ số của số có thể bật sáng.\n",
        "\n",
        "Dữ liệu: Vào từ thiết bị nhập chuẩn gồm một dòng chứa số nguyên n (2 ≤ n ≤ 106).\n",
        "\n",
        "Kết quả: Đưa ra thiết bị xuất chuẩn một số nguyên – tổng lớn nhất đạt được.\n",
        "\n",
        "Ví dụ:\n",
        "\n",
        "    INPUT     |     OUTPUT\n",
        "    7         |      11\n",
        "\n",
        "\n"
      ]
    },
    {
      "cell_type": "markdown",
      "metadata": {
        "id": "eKCuAjR9rKp2"
      },
      "source": [
        "###**BÀI TOÁN 1 :  Phần thưởng**\r\n",
        "\r\n",
        "##**1. Abstraction:** \r\n",
        "Xác định số nguyên lớn nhất chia hết cho 3 và khác n ở đúng một chữ số.\r\n",
        "## **4. Algorithm designed:**\r\n",
        "\r\n",
        "```python\r\n",
        "Gán x = 3 - n%3   (suy ra (n + x) % 3 == 0)  \r\n",
        "\r\n",
        "l = list(str(n))\r\n",
        "i = 0\r\n",
        "Run = True\r\n",
        "(Kiếm tra trường hợp có số nguyên lớn hơn n thõa mãn)\r\n",
        "loop: \r\n",
        "while Run:\r\n",
        "  p = int(l[i] + x)  (Cộng thêm x để chia hết cho 3)\r\n",
        "  if (p < 10):\r\n",
        "    while p < 7:\r\n",
        "      p += 3\r\n",
        "    l[i] = str(p)\r\n",
        "    Run = False\r\n",
        "  (Tăng lần lượt lên 3 để nhận được chữ số lớn nhất, nếu tìm được chữ số phù hợp thì dừng vòng lặp)\r\n",
        "  i += 1\r\n",
        "  if i == len(l):\r\n",
        "    Run = False\r\n",
        "    (Kiểm tra đến chữ số cuối cùng của n, nếu không tìm được thì dừng vòng lặp)\r\n",
        "  \r\n",
        "if \"\".join(l) != str(n):\r\n",
        "  print(\"\".join(l))\r\n",
        "  (Nếu l khác n -> tìm được số nguyên thõa mãn)\r\n",
        "else:\r\n",
        "(Kiểm tra trường hợp số nguyên bé hơn n thõa mãn)\r\n",
        "    if n % 3 == 0:\r\n",
        "        temp = int(l[-1]) - 3\r\n",
        "    else:\r\n",
        "        temp = int(l[-1]) - n%3\r\n",
        "    l[-1] = str(temp)\r\n",
        "    print(\"\".join(l))\r\n",
        "```\r\n"
      ]
    },
    {
      "cell_type": "markdown",
      "metadata": {
        "id": "K3H_M0wDv-A9"
      },
      "source": [
        "###**BÀI TOÁN 2 :  Đèn led**\r\n",
        "\r\n",
        "1. Tóm tắt bài toán\r\n",
        "Cho số nguyên n. Xác định tổng các chữ số lớn nhất x tạo thành từ số được tạo bởi đúng n đoạn đèn led của led 7 đoạn\r\n",
        "\r\n",
        "2. Nhận dạng mẫu (Pattern-Recognition)\r\n",
        "Sắp xếp các chứ số của led 7 đoạn ta được:\r\n",
        "\r\n",
        "-  số 1 - sử dụng 2 đoạn\r\n",
        "-  số 2 - sử dụng 5 đoạn\r\n",
        "-  số 3 - sử dụng 5 đoạn\r\n",
        "-  số 4 - sử dụng 4 đoạn\r\n",
        "-  số 5 - sử dụng 5 đoạn\r\n",
        "-  số 6 - sử dụng 6 đoạn\r\n",
        "-  số 7 - sử dụng 3 đoạn\r\n",
        "-  số 8 - sử dụng 7 đoạn\r\n",
        "-  số 9 - sử dụng 6 đoạn\r\n",
        "Ta thấy số 7 chữ số lớn nhất sử dụng ít đoạn đèn led nhất. Nên ta có thể giải quyết bài toán theo giải thuật tham lam\r\n",
        "\r\n",
        "3. Thuật toán\r\n",
        "3.1. Ý tưởng\r\n",
        "Tìm số dư r của phép chia n / 3\r\n",
        "Nếu r = 0 thì kết quả là 7 * (n div 3)\r\n",
        "Nếu r = 1 thì kết quả thì 7 * (n div 3) trừ đi 1 số 7 để được phần dư là 4 đoạn và ta có thể cộng thêm số 4\r\n",
        "Nếu r = 2 thì kết quả là 7 * (n div 3) + số 1 (sử dụng đúng 2 đoạn đèn led dư)\r\n",
        "3.2. Mã giả thuật toán\r\n",
        "pseudocode\r\n",
        "'''\r\n",
        "    Initialize n\r\n",
        "      ans = 7 * (n div 3)\r\n",
        "      if n mod 3 == 1 then\r\n",
        "      ans = ans - 7 + 4\r\n",
        "      if n mod 3 == 2 then \r\n",
        "       ans = ans + 1\r\n",
        "\r\n",
        "    Return ans"
      ]
    },
    {
      "cell_type": "markdown",
      "metadata": {
        "id": "nqGiP2v5gS74"
      },
      "source": [
        "#Result 1&2\n",
        "\n",
        "![4.PNG](data:image/png;base64,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)"
      ]
    },
    {
      "cell_type": "markdown",
      "metadata": {
        "id": "iX5ylF_7rv_E"
      },
      "source": [
        "#CODE 1"
      ]
    },
    {
      "cell_type": "code",
      "metadata": {
        "id": "qKR3OhGcg_FS",
        "colab": {
          "base_uri": "https://localhost:8080/"
        },
        "outputId": "5eab080d-b987-4cde-bbfe-85b55d31a6a8"
      },
      "source": [
        "n, k = map(int,input().split())\n",
        "a = list(map(int,input().split()))\n",
        "a = [0] + a\n",
        "\n",
        "# prefix sum\n",
        "for i in range(1,n + 1):\n",
        "\ta[i] += a[i - 1]\n",
        "\n",
        "\n",
        "# create list b \n",
        "b = [0 for _ in range(n - k + 3)]\n",
        "\n",
        "m = n - k + 1\n",
        "for i in range(1,n - k + 2):\n",
        "\tb[i] = a[i + k - 1] - a[i - 1]  \n",
        "\n",
        "# max prefix\n",
        "pre = [0 for _ in range(n - k + 3)]\n",
        "for i in range(1,n - k + 2):\n",
        "\tpre[i] = max(b[i],pre[i - 1])\n",
        "\n",
        "# max suffix\n",
        "suff = [0 for _ in range(n - k + 3)]\n",
        "for i in range(n - k  + 1,0,-1):\n",
        "\tsuff[i] = max(b[i],suff[i + 1])\n",
        "\n",
        "ans = 10**15\n",
        "for i in range(1,m + 1):\n",
        "\ttmp = 0\n",
        "\tif i >= k: tmp = max(tmp,pre[i - k])\n",
        "\tif i + k <= m + 1: tmp = max(tmp,suff[i + k])\n",
        "\tans = min(ans,tmp)\n",
        "\n",
        "print(ans)"
      ],
      "execution_count": 11,
      "outputs": [
        {
          "output_type": "stream",
          "text": [
            "10 2\n",
            "1 2 4 5 2 4 2 2 1 6\n",
            "7\n"
          ],
          "name": "stdout"
        }
      ]
    },
    {
      "cell_type": "markdown",
      "metadata": {
        "id": "DeU0JvPcr1vp"
      },
      "source": [
        "#CODE 2"
      ]
    },
    {
      "cell_type": "code",
      "metadata": {
        "colab": {
          "base_uri": "https://localhost:8080/"
        },
        "id": "vvIqIu2xsVvy",
        "outputId": "fdb436e9-4d1c-417e-ab7f-90e30988846a"
      },
      "source": [
        "n = int(input())\r\n",
        "\r\n",
        "max_num = n // 3\r\n",
        "\r\n",
        "remainder = n % 3\r\n",
        "\r\n",
        "if(remainder == 0):\r\n",
        "    print(max_num * 7)\r\n",
        "elif(remainder == 1):\r\n",
        "    print((max_num - 1) * 7 + 4)\r\n",
        "elif(remainder == 2):\r\n",
        "    print(max_num * 7 + 1)"
      ],
      "execution_count": 12,
      "outputs": [
        {
          "output_type": "stream",
          "text": [
            "7\n",
            "11\n"
          ],
          "name": "stdout"
        }
      ]
    }
  ]
}