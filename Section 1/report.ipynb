{
 "cells": [
  {
   "cell_type": "markdown",
   "metadata": {},
   "source": [
    "# BOT   \n",
    "BOT (Built-Operation-Transfer, có nghĩa: Xây dựng-Vận hành-Chuyển giao) là hình thức Chính phủ kêu gọi các công ty bỏ vốn xây dựng trước (Built) thông qua đấu thầu, sau đó khai thác vận hành một thời gian (Operation) và sau cùng là chuyển giao ( Transfer) lại cho nhà nước sở tại. Đường cao tốc xuyên quốc gia được xây dựng theo hình thức BOT. Công ty Đa quốc gia Modern Highway trúng thầu, chia toàn bộ con đường thành n đoạn. Theo tính toán của Công ty sau khi chuyển giao con đường cho chính phủ sở tại quản lý thì lãi thu được ở đoạn đường thứ i là ai, ai có thể dương, âm hoặc bằng 0, tức là với từng đoạn con có thể lãi, lỗ hoặc hòa vốn. Từng nhóm các đoạn đường liên tiếp nhau (gọi tắt là khoảng) được chia cho các công ty con thực hiện. Công ty con ASEAM Highway hiện đang có trụ sở ở nước sở tại được quyền chọn trước khoảng tùy ý (có thể là cả con đường). Dĩ nhiên Ban Giám đốc ASEAM Highway muốn chọn khoảng bắt đầu từ đoạn p đến hết đoạn q mang lại\n",
    "lợi nhuận cao nhất hoặc lỗ ít nhất nếu không có khoảng nào cho lãi. Hãy chỉ ra khoảng cần chọn và lãi thu được. Nếu có nhiều cách chọn thì chỉ ra cách chọn có p nhỏ nhất.\n",
    "\n",
    "\n",
    "Dữ liệu: Vào từ thiết bị nhập chuẩn:  \n",
    "- Dòng đầu tiên chứa số nguyên n (1 ≤ n ≤ 106)\n",
    "- Dòng thứ 2 chứa n số nguyên a1, a2, . . ., an (0 ≤ |ai| ≤ 109 , i = 1 ÷ n)\n",
    "\n",
    "Kết quả: Đưa ra thiết bị xuất chuẩn trên một dòng 2 số nguyên p, q và lãi thu được.  \n",
    "\n",
    "Ví dụ:\n",
    "\n",
    "|INPUT                                   |OUTPUT       |\n",
    "|----------------------------------------|-------------|\n",
    "|16                                      |5 15 12      |\n",
    "|2 -4 5 -8 4 -1 -1 1 1 1 -2 2 4 -6 9 -4  |             |\n",
    "<script src='https://cdnjs.cloudflare.com/ajax/libs/mathjax/2.7.5/MathJax.js?config=TeX-MML-AM_CHTML' async></script>\n"
   ]
  },
  {
   "cell_type": "markdown",
   "metadata": {},
   "source": [
    "# 1. Abstraction\n",
    "Tìm vị trí p, q và tổng các phần tử từ vị trí p đến q của dãy a sao cho tổng đó là lớn nhất.   \n",
    "Toán học: Tìm $p,q \\text{ }(1 \\le p \\le q \\le n)$ và $\\sum_{i=p}^{q}a_{i}$ sao cho $\\sum_{i=p}^{q}a_{i}$ lớn nhất. Nếu có nhiều cách chọn thì chọn $p$ nhỏ nhất.\n",
    "\n",
    "## Condition \n",
    "- Độ dài dãy $a$ ($n$) không được nhiều hơn $10^6$ ( $0 \\le n\\le 10^6$ )\n",
    "- Mỗi phần tử thứ $i$ của dãy $a$ không được vượt quá $10^9$ ( $0 \\le a_i \\le 10^9$ )\n"
   ]
  },
  {
   "cell_type": "markdown",
   "metadata": {
    "tags": []
   },
   "source": [
    "# 2. Pattern Recognition: \n",
    " Dynamic Programming : $O(n^3)$\n",
   ],
  },
  {
   "cell_type": "markdown",
   "metadata": {},
   "source": [
    "# 3. Algorithm design"
   ]
  },
  {
   "cell_type": "markdown",
   "metadata": {},
   "source": [
    "Lựa chọn thuật toán Dynamic để giải quyết bài toán",
   ]
  },
  {
   "cell_type": "markdown",
   "metadata": {},
   "source": [
    "## Pseudo-Code"
   ]
  },
  {
   "cell_type": "markdown",
   "metadata": {},
   "source": [
    "max_sum_present = 0 (dùng để lưu trữ tổng của dãy con lớn nhất cho đến hiện tại (lớn nhất cần tìm))\n",
    "\n",
    "max_sum_ending_at = 0 (dùng để gán giá trị kết thúc của mảng con cần tìm)\n",
    "\n",
    "start_index = 0 (dùng để gán giá trị bắt đầu của mảng con cần tìm)\n",
    "\n",
    "start_temp = -1 (biến này có 2 mục đích dùng. Mục đích thứ nhất, là dùng để kiểm tra tổng dãy con kết thúc tại vị trí i-1 có âm hay không. Vì nếu tổng dãy con con kết thúc tại i-1 âm thì tổng dãy con kết lớn nhất kết thúc tại vị trí i sẽ là chính phần tử tại i. Mục đích thứ 2 là lưu tạm thời vị trí bắt đầu của mảng con cần tìm)\n",
    "\n",
    "ending_index = 0 (dùng để gán giá tị kết thúc của mảng con cần tìm))\n",
    "\n",
    "Loop for each index i of the array:\n",
    "\n",
    "    max_sum_ending_at <- max_sum_ending_at + a[i]  (tính mảng con lớn nhất kết thúc tại vị trí đang xét)\n",
    "    if (max_sum_ending_at<0): (kiểm tra tổng mảng con kết thúc tại i này có âm hay không)\n",
    "        max_sum_ending_at <- 0 (nếu là âm thì max_sum_ending_at trở về 0)\n",
    "        start_temp <- -1 (đồng thời start_temp trở về -1)\n",
    "    else:\n",
    "        if start_temp==-1: (tức là nếu tổng dãy con lớn nhất tại i-1 nhỏ hơn 0)\n",
    "            start_temp <- i (thì mảng con lớn nhất kết thúc tại i sẽ là a[i])\n",
    "        if max_sum_present < max_sum_ending_at: (kiếm tra tổng mảng con lớn nhất đang xét có lớn hơn giá trị cũ hay không)\n",
    "            max_sum_present <- max_sum_ending_at (nếu lớn hơn thì update giá trị mảng con lớn nhất)\n",
    "            start_index <- start_temp (GÁN giá trị bắt đầu)\n",
    "            ending_index <- i (UPDATE giá trị kết thúc))\n",
    "    return start_index, ending_index, max_sum_present (trả về kết quả)\n"
   ]
  },
  {
   "cell_type": "markdown",
   "metadata": {},
   "source": [
    "# 4. Implement "
   ]
  },
  {
   "cell_type": "code",
   "execution_count": 2,
   "metadata": {
    "tags": []
   },
   "outputs": [
    {
     "output_type": "stream",
     "name": "stdout",
     "text": "5 15 12\n"
    }
   ],
   "source": [
    "def kadane(seqs):\n",
    "\n",
    "  max_sum_present = 0\n",
    "\n",
    "  max_sum_ending_at = 0\n",
    "\n",
    "  start_index = 0\n",
    "\n",
    "  start_temp = -1\n",
    "\n",
    "  ending_index = 0\n",
    "\n",
    "  for i in range(len(seqs)):\n",
    "  \n",
    "    max_sum_ending_at += seqs[i]\n",
    "    if (max_sum_ending_at < 0):\n",
    "      max_sum_ending_at = 0\n",
    "      start_temp = -1\n",
    "    else:\n",
    "      if start_temp == -1:\n",
    "        start_temp = i\n",
    "      if max_sum_present < max_sum_ending_at:\n",
    "        max_sum_present = max_sum_ending_at\n",
    "        start_index = start_temp\n",
    "        ending_index = i\n",
    "  return start_index+1, ending_index+1, max_sum_present \n",
    "\n",
    "n = input()\n",
    "\n",
    "n = int(n)\n",
    "\n",
    "a = list(map(int, input().split())) \n",
    "\n",
    "start,stop,profit = kadane(a)\n",
    "print(start,stop,profit)"
   ]
  },
  {
   "cell_type": "code",
   "execution_count": null,
   "metadata": {},
   "outputs": [],
   "source": []
  }
 ],
 "metadata": {
  "kernelspec": {
   "display_name": "Python 3",
   "language": "python",
   "name": "python3"
  },
  "language_info": {
   "codemirror_mode": {
    "name": "ipython",
    "version": 3
   },
   "file_extension": ".py",
   "mimetype": "text/x-python",
   "name": "python",
   "nbconvert_exporter": "python",
   "pygments_lexer": "ipython3",
   "version": "3.6.9-final"
  }
 },
 "nbformat": 4,
 "nbformat_minor": 4
}
